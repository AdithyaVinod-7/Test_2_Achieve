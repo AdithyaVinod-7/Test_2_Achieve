{
  "metadata": {
    "accelerator": "GPU",
    "colab": {
      "provenance": []
    },
    "gpuClass": "standard",
    "kernelspec": {
      "name": "python3",
      "display_name": "Python 3",
      "language": "python"
    },
    "language_info": {
      "name": "python",
      "version": "3.7.12",
      "mimetype": "text/x-python",
      "codemirror_mode": {
        "name": "ipython",
        "version": 3
      },
      "pygments_lexer": "ipython3",
      "nbconvert_exporter": "python",
      "file_extension": ".py"
    },
    "widgets": {
      "application/vnd.jupyter.widget-state+json": {
        "a858991c56f941fcaa01106fa40c9c3d": {
          "model_module": "@jupyter-widgets/controls",
          "model_name": "HBoxModel",
          "model_module_version": "1.5.0",
          "state": {
            "_dom_classes": [],
            "_model_module": "@jupyter-widgets/controls",
            "_model_module_version": "1.5.0",
            "_model_name": "HBoxModel",
            "_view_count": null,
            "_view_module": "@jupyter-widgets/controls",
            "_view_module_version": "1.5.0",
            "_view_name": "HBoxView",
            "box_style": "",
            "children": [
              "IPY_MODEL_c9b42a6730874efe81abb4a7248de7d4",
              "IPY_MODEL_a1681ac09c464a789ade04379d2261b1",
              "IPY_MODEL_a8100e0a964a408ea5ce377a753de63c"
            ],
            "layout": "IPY_MODEL_670b8cd781f14e34b95e6d2dd6b0f6e5"
          }
        },
        "c9b42a6730874efe81abb4a7248de7d4": {
          "model_module": "@jupyter-widgets/controls",
          "model_name": "HTMLModel",
          "model_module_version": "1.5.0",
          "state": {
            "_dom_classes": [],
            "_model_module": "@jupyter-widgets/controls",
            "_model_module_version": "1.5.0",
            "_model_name": "HTMLModel",
            "_view_count": null,
            "_view_module": "@jupyter-widgets/controls",
            "_view_module_version": "1.5.0",
            "_view_name": "HTMLView",
            "description": "",
            "description_tooltip": null,
            "layout": "IPY_MODEL_4ef3ef2cc0314a7e8fe30646bd14f601",
            "placeholder": "​",
            "style": "IPY_MODEL_1e4b33e55a54413db316351ea1a53922",
            "value": "Downloading (…)&quot;pytorch_model.bin&quot;;: 100%"
          }
        },
        "a1681ac09c464a789ade04379d2261b1": {
          "model_module": "@jupyter-widgets/controls",
          "model_name": "FloatProgressModel",
          "model_module_version": "1.5.0",
          "state": {
            "_dom_classes": [],
            "_model_module": "@jupyter-widgets/controls",
            "_model_module_version": "1.5.0",
            "_model_name": "FloatProgressModel",
            "_view_count": null,
            "_view_module": "@jupyter-widgets/controls",
            "_view_module_version": "1.5.0",
            "_view_name": "ProgressView",
            "bar_style": "success",
            "description": "",
            "description_tooltip": null,
            "layout": "IPY_MODEL_0477ad605e2e4d97a076ef2c99a3dce9",
            "max": 440473133,
            "min": 0,
            "orientation": "horizontal",
            "style": "IPY_MODEL_c1e0e59ce9de46fbac319c530b01ad09",
            "value": 440473133
          }
        },
        "a8100e0a964a408ea5ce377a753de63c": {
          "model_module": "@jupyter-widgets/controls",
          "model_name": "HTMLModel",
          "model_module_version": "1.5.0",
          "state": {
            "_dom_classes": [],
            "_model_module": "@jupyter-widgets/controls",
            "_model_module_version": "1.5.0",
            "_model_name": "HTMLModel",
            "_view_count": null,
            "_view_module": "@jupyter-widgets/controls",
            "_view_module_version": "1.5.0",
            "_view_name": "HTMLView",
            "description": "",
            "description_tooltip": null,
            "layout": "IPY_MODEL_519210ea2535431fbc5951cee52e74c4",
            "placeholder": "​",
            "style": "IPY_MODEL_75b2a1e31106454da6a72fd830d6c54c",
            "value": " 440M/440M [00:02&lt;00:00, 218MB/s]"
          }
        },
        "670b8cd781f14e34b95e6d2dd6b0f6e5": {
          "model_module": "@jupyter-widgets/base",
          "model_name": "LayoutModel",
          "model_module_version": "1.2.0",
          "state": {
            "_model_module": "@jupyter-widgets/base",
            "_model_module_version": "1.2.0",
            "_model_name": "LayoutModel",
            "_view_count": null,
            "_view_module": "@jupyter-widgets/base",
            "_view_module_version": "1.2.0",
            "_view_name": "LayoutView",
            "align_content": null,
            "align_items": null,
            "align_self": null,
            "border": null,
            "bottom": null,
            "display": null,
            "flex": null,
            "flex_flow": null,
            "grid_area": null,
            "grid_auto_columns": null,
            "grid_auto_flow": null,
            "grid_auto_rows": null,
            "grid_column": null,
            "grid_gap": null,
            "grid_row": null,
            "grid_template_areas": null,
            "grid_template_columns": null,
            "grid_template_rows": null,
            "height": null,
            "justify_content": null,
            "justify_items": null,
            "left": null,
            "margin": null,
            "max_height": null,
            "max_width": null,
            "min_height": null,
            "min_width": null,
            "object_fit": null,
            "object_position": null,
            "order": null,
            "overflow": null,
            "overflow_x": null,
            "overflow_y": null,
            "padding": null,
            "right": null,
            "top": null,
            "visibility": null,
            "width": null
          }
        },
        "4ef3ef2cc0314a7e8fe30646bd14f601": {
          "model_module": "@jupyter-widgets/base",
          "model_name": "LayoutModel",
          "model_module_version": "1.2.0",
          "state": {
            "_model_module": "@jupyter-widgets/base",
            "_model_module_version": "1.2.0",
            "_model_name": "LayoutModel",
            "_view_count": null,
            "_view_module": "@jupyter-widgets/base",
            "_view_module_version": "1.2.0",
            "_view_name": "LayoutView",
            "align_content": null,
            "align_items": null,
            "align_self": null,
            "border": null,
            "bottom": null,
            "display": null,
            "flex": null,
            "flex_flow": null,
            "grid_area": null,
            "grid_auto_columns": null,
            "grid_auto_flow": null,
            "grid_auto_rows": null,
            "grid_column": null,
            "grid_gap": null,
            "grid_row": null,
            "grid_template_areas": null,
            "grid_template_columns": null,
            "grid_template_rows": null,
            "height": null,
            "justify_content": null,
            "justify_items": null,
            "left": null,
            "margin": null,
            "max_height": null,
            "max_width": null,
            "min_height": null,
            "min_width": null,
            "object_fit": null,
            "object_position": null,
            "order": null,
            "overflow": null,
            "overflow_x": null,
            "overflow_y": null,
            "padding": null,
            "right": null,
            "top": null,
            "visibility": null,
            "width": null
          }
        },
        "1e4b33e55a54413db316351ea1a53922": {
          "model_module": "@jupyter-widgets/controls",
          "model_name": "DescriptionStyleModel",
          "model_module_version": "1.5.0",
          "state": {
            "_model_module": "@jupyter-widgets/controls",
            "_model_module_version": "1.5.0",
            "_model_name": "DescriptionStyleModel",
            "_view_count": null,
            "_view_module": "@jupyter-widgets/base",
            "_view_module_version": "1.2.0",
            "_view_name": "StyleView",
            "description_width": ""
          }
        },
        "0477ad605e2e4d97a076ef2c99a3dce9": {
          "model_module": "@jupyter-widgets/base",
          "model_name": "LayoutModel",
          "model_module_version": "1.2.0",
          "state": {
            "_model_module": "@jupyter-widgets/base",
            "_model_module_version": "1.2.0",
            "_model_name": "LayoutModel",
            "_view_count": null,
            "_view_module": "@jupyter-widgets/base",
            "_view_module_version": "1.2.0",
            "_view_name": "LayoutView",
            "align_content": null,
            "align_items": null,
            "align_self": null,
            "border": null,
            "bottom": null,
            "display": null,
            "flex": null,
            "flex_flow": null,
            "grid_area": null,
            "grid_auto_columns": null,
            "grid_auto_flow": null,
            "grid_auto_rows": null,
            "grid_column": null,
            "grid_gap": null,
            "grid_row": null,
            "grid_template_areas": null,
            "grid_template_columns": null,
            "grid_template_rows": null,
            "height": null,
            "justify_content": null,
            "justify_items": null,
            "left": null,
            "margin": null,
            "max_height": null,
            "max_width": null,
            "min_height": null,
            "min_width": null,
            "object_fit": null,
            "object_position": null,
            "order": null,
            "overflow": null,
            "overflow_x": null,
            "overflow_y": null,
            "padding": null,
            "right": null,
            "top": null,
            "visibility": null,
            "width": null
          }
        },
        "c1e0e59ce9de46fbac319c530b01ad09": {
          "model_module": "@jupyter-widgets/controls",
          "model_name": "ProgressStyleModel",
          "model_module_version": "1.5.0",
          "state": {
            "_model_module": "@jupyter-widgets/controls",
            "_model_module_version": "1.5.0",
            "_model_name": "ProgressStyleModel",
            "_view_count": null,
            "_view_module": "@jupyter-widgets/base",
            "_view_module_version": "1.2.0",
            "_view_name": "StyleView",
            "bar_color": null,
            "description_width": ""
          }
        },
        "519210ea2535431fbc5951cee52e74c4": {
          "model_module": "@jupyter-widgets/base",
          "model_name": "LayoutModel",
          "model_module_version": "1.2.0",
          "state": {
            "_model_module": "@jupyter-widgets/base",
            "_model_module_version": "1.2.0",
            "_model_name": "LayoutModel",
            "_view_count": null,
            "_view_module": "@jupyter-widgets/base",
            "_view_module_version": "1.2.0",
            "_view_name": "LayoutView",
            "align_content": null,
            "align_items": null,
            "align_self": null,
            "border": null,
            "bottom": null,
            "display": null,
            "flex": null,
            "flex_flow": null,
            "grid_area": null,
            "grid_auto_columns": null,
            "grid_auto_flow": null,
            "grid_auto_rows": null,
            "grid_column": null,
            "grid_gap": null,
            "grid_row": null,
            "grid_template_areas": null,
            "grid_template_columns": null,
            "grid_template_rows": null,
            "height": null,
            "justify_content": null,
            "justify_items": null,
            "left": null,
            "margin": null,
            "max_height": null,
            "max_width": null,
            "min_height": null,
            "min_width": null,
            "object_fit": null,
            "object_position": null,
            "order": null,
            "overflow": null,
            "overflow_x": null,
            "overflow_y": null,
            "padding": null,
            "right": null,
            "top": null,
            "visibility": null,
            "width": null
          }
        },
        "75b2a1e31106454da6a72fd830d6c54c": {
          "model_module": "@jupyter-widgets/controls",
          "model_name": "DescriptionStyleModel",
          "model_module_version": "1.5.0",
          "state": {
            "_model_module": "@jupyter-widgets/controls",
            "_model_module_version": "1.5.0",
            "_model_name": "DescriptionStyleModel",
            "_view_count": null,
            "_view_module": "@jupyter-widgets/base",
            "_view_module_version": "1.2.0",
            "_view_name": "StyleView",
            "description_width": ""
          }
        },
        "4d1ff2b4fb9e406686b8d265fd44b6c9": {
          "model_module": "@jupyter-widgets/controls",
          "model_name": "HBoxModel",
          "model_module_version": "1.5.0",
          "state": {
            "_dom_classes": [],
            "_model_module": "@jupyter-widgets/controls",
            "_model_module_version": "1.5.0",
            "_model_name": "HBoxModel",
            "_view_count": null,
            "_view_module": "@jupyter-widgets/controls",
            "_view_module_version": "1.5.0",
            "_view_name": "HBoxView",
            "box_style": "",
            "children": [
              "IPY_MODEL_5d4e37cfccf84119999f9e2df1a21617",
              "IPY_MODEL_cf17fd6904914fa1b4a0a1bf94d3ef02",
              "IPY_MODEL_1377f844f19942afa58c594f1e480525"
            ],
            "layout": "IPY_MODEL_466fb99da058431eb80b0bcf436c7649"
          }
        },
        "5d4e37cfccf84119999f9e2df1a21617": {
          "model_module": "@jupyter-widgets/controls",
          "model_name": "HTMLModel",
          "model_module_version": "1.5.0",
          "state": {
            "_dom_classes": [],
            "_model_module": "@jupyter-widgets/controls",
            "_model_module_version": "1.5.0",
            "_model_name": "HTMLModel",
            "_view_count": null,
            "_view_module": "@jupyter-widgets/controls",
            "_view_module_version": "1.5.0",
            "_view_name": "HTMLView",
            "description": "",
            "description_tooltip": null,
            "layout": "IPY_MODEL_cfe5f639b01643d382e8ddb79142d7e9",
            "placeholder": "​",
            "style": "IPY_MODEL_5ad0342f5f354c3e86eb6fba90ef9475",
            "value": "Downloading (…)lve/main/config.json: 100%"
          }
        },
        "cf17fd6904914fa1b4a0a1bf94d3ef02": {
          "model_module": "@jupyter-widgets/controls",
          "model_name": "FloatProgressModel",
          "model_module_version": "1.5.0",
          "state": {
            "_dom_classes": [],
            "_model_module": "@jupyter-widgets/controls",
            "_model_module_version": "1.5.0",
            "_model_name": "FloatProgressModel",
            "_view_count": null,
            "_view_module": "@jupyter-widgets/controls",
            "_view_module_version": "1.5.0",
            "_view_name": "ProgressView",
            "bar_style": "success",
            "description": "",
            "description_tooltip": null,
            "layout": "IPY_MODEL_94163ceb01de455da2026137d6e5b384",
            "max": 570,
            "min": 0,
            "orientation": "horizontal",
            "style": "IPY_MODEL_19874738b39b422eabdd8344617157ba",
            "value": 570
          }
        },
        "1377f844f19942afa58c594f1e480525": {
          "model_module": "@jupyter-widgets/controls",
          "model_name": "HTMLModel",
          "model_module_version": "1.5.0",
          "state": {
            "_dom_classes": [],
            "_model_module": "@jupyter-widgets/controls",
            "_model_module_version": "1.5.0",
            "_model_name": "HTMLModel",
            "_view_count": null,
            "_view_module": "@jupyter-widgets/controls",
            "_view_module_version": "1.5.0",
            "_view_name": "HTMLView",
            "description": "",
            "description_tooltip": null,
            "layout": "IPY_MODEL_a984bfd662f14099b6ed6363697f300d",
            "placeholder": "​",
            "style": "IPY_MODEL_94f7092f69994f2cb9c91fb1940d9bf6",
            "value": " 570/570 [00:00&lt;00:00, 23.0kB/s]"
          }
        },
        "466fb99da058431eb80b0bcf436c7649": {
          "model_module": "@jupyter-widgets/base",
          "model_name": "LayoutModel",
          "model_module_version": "1.2.0",
          "state": {
            "_model_module": "@jupyter-widgets/base",
            "_model_module_version": "1.2.0",
            "_model_name": "LayoutModel",
            "_view_count": null,
            "_view_module": "@jupyter-widgets/base",
            "_view_module_version": "1.2.0",
            "_view_name": "LayoutView",
            "align_content": null,
            "align_items": null,
            "align_self": null,
            "border": null,
            "bottom": null,
            "display": null,
            "flex": null,
            "flex_flow": null,
            "grid_area": null,
            "grid_auto_columns": null,
            "grid_auto_flow": null,
            "grid_auto_rows": null,
            "grid_column": null,
            "grid_gap": null,
            "grid_row": null,
            "grid_template_areas": null,
            "grid_template_columns": null,
            "grid_template_rows": null,
            "height": null,
            "justify_content": null,
            "justify_items": null,
            "left": null,
            "margin": null,
            "max_height": null,
            "max_width": null,
            "min_height": null,
            "min_width": null,
            "object_fit": null,
            "object_position": null,
            "order": null,
            "overflow": null,
            "overflow_x": null,
            "overflow_y": null,
            "padding": null,
            "right": null,
            "top": null,
            "visibility": null,
            "width": null
          }
        },
        "cfe5f639b01643d382e8ddb79142d7e9": {
          "model_module": "@jupyter-widgets/base",
          "model_name": "LayoutModel",
          "model_module_version": "1.2.0",
          "state": {
            "_model_module": "@jupyter-widgets/base",
            "_model_module_version": "1.2.0",
            "_model_name": "LayoutModel",
            "_view_count": null,
            "_view_module": "@jupyter-widgets/base",
            "_view_module_version": "1.2.0",
            "_view_name": "LayoutView",
            "align_content": null,
            "align_items": null,
            "align_self": null,
            "border": null,
            "bottom": null,
            "display": null,
            "flex": null,
            "flex_flow": null,
            "grid_area": null,
            "grid_auto_columns": null,
            "grid_auto_flow": null,
            "grid_auto_rows": null,
            "grid_column": null,
            "grid_gap": null,
            "grid_row": null,
            "grid_template_areas": null,
            "grid_template_columns": null,
            "grid_template_rows": null,
            "height": null,
            "justify_content": null,
            "justify_items": null,
            "left": null,
            "margin": null,
            "max_height": null,
            "max_width": null,
            "min_height": null,
            "min_width": null,
            "object_fit": null,
            "object_position": null,
            "order": null,
            "overflow": null,
            "overflow_x": null,
            "overflow_y": null,
            "padding": null,
            "right": null,
            "top": null,
            "visibility": null,
            "width": null
          }
        },
        "5ad0342f5f354c3e86eb6fba90ef9475": {
          "model_module": "@jupyter-widgets/controls",
          "model_name": "DescriptionStyleModel",
          "model_module_version": "1.5.0",
          "state": {
            "_model_module": "@jupyter-widgets/controls",
            "_model_module_version": "1.5.0",
            "_model_name": "DescriptionStyleModel",
            "_view_count": null,
            "_view_module": "@jupyter-widgets/base",
            "_view_module_version": "1.2.0",
            "_view_name": "StyleView",
            "description_width": ""
          }
        },
        "94163ceb01de455da2026137d6e5b384": {
          "model_module": "@jupyter-widgets/base",
          "model_name": "LayoutModel",
          "model_module_version": "1.2.0",
          "state": {
            "_model_module": "@jupyter-widgets/base",
            "_model_module_version": "1.2.0",
            "_model_name": "LayoutModel",
            "_view_count": null,
            "_view_module": "@jupyter-widgets/base",
            "_view_module_version": "1.2.0",
            "_view_name": "LayoutView",
            "align_content": null,
            "align_items": null,
            "align_self": null,
            "border": null,
            "bottom": null,
            "display": null,
            "flex": null,
            "flex_flow": null,
            "grid_area": null,
            "grid_auto_columns": null,
            "grid_auto_flow": null,
            "grid_auto_rows": null,
            "grid_column": null,
            "grid_gap": null,
            "grid_row": null,
            "grid_template_areas": null,
            "grid_template_columns": null,
            "grid_template_rows": null,
            "height": null,
            "justify_content": null,
            "justify_items": null,
            "left": null,
            "margin": null,
            "max_height": null,
            "max_width": null,
            "min_height": null,
            "min_width": null,
            "object_fit": null,
            "object_position": null,
            "order": null,
            "overflow": null,
            "overflow_x": null,
            "overflow_y": null,
            "padding": null,
            "right": null,
            "top": null,
            "visibility": null,
            "width": null
          }
        },
        "19874738b39b422eabdd8344617157ba": {
          "model_module": "@jupyter-widgets/controls",
          "model_name": "ProgressStyleModel",
          "model_module_version": "1.5.0",
          "state": {
            "_model_module": "@jupyter-widgets/controls",
            "_model_module_version": "1.5.0",
            "_model_name": "ProgressStyleModel",
            "_view_count": null,
            "_view_module": "@jupyter-widgets/base",
            "_view_module_version": "1.2.0",
            "_view_name": "StyleView",
            "bar_color": null,
            "description_width": ""
          }
        },
        "a984bfd662f14099b6ed6363697f300d": {
          "model_module": "@jupyter-widgets/base",
          "model_name": "LayoutModel",
          "model_module_version": "1.2.0",
          "state": {
            "_model_module": "@jupyter-widgets/base",
            "_model_module_version": "1.2.0",
            "_model_name": "LayoutModel",
            "_view_count": null,
            "_view_module": "@jupyter-widgets/base",
            "_view_module_version": "1.2.0",
            "_view_name": "LayoutView",
            "align_content": null,
            "align_items": null,
            "align_self": null,
            "border": null,
            "bottom": null,
            "display": null,
            "flex": null,
            "flex_flow": null,
            "grid_area": null,
            "grid_auto_columns": null,
            "grid_auto_flow": null,
            "grid_auto_rows": null,
            "grid_column": null,
            "grid_gap": null,
            "grid_row": null,
            "grid_template_areas": null,
            "grid_template_columns": null,
            "grid_template_rows": null,
            "height": null,
            "justify_content": null,
            "justify_items": null,
            "left": null,
            "margin": null,
            "max_height": null,
            "max_width": null,
            "min_height": null,
            "min_width": null,
            "object_fit": null,
            "object_position": null,
            "order": null,
            "overflow": null,
            "overflow_x": null,
            "overflow_y": null,
            "padding": null,
            "right": null,
            "top": null,
            "visibility": null,
            "width": null
          }
        },
        "94f7092f69994f2cb9c91fb1940d9bf6": {
          "model_module": "@jupyter-widgets/controls",
          "model_name": "DescriptionStyleModel",
          "model_module_version": "1.5.0",
          "state": {
            "_model_module": "@jupyter-widgets/controls",
            "_model_module_version": "1.5.0",
            "_model_name": "DescriptionStyleModel",
            "_view_count": null,
            "_view_module": "@jupyter-widgets/base",
            "_view_module_version": "1.2.0",
            "_view_name": "StyleView",
            "description_width": ""
          }
        },
        "a0aca0235c8145b889b820d43ec18fe0": {
          "model_module": "@jupyter-widgets/controls",
          "model_name": "HBoxModel",
          "model_module_version": "1.5.0",
          "state": {
            "_dom_classes": [],
            "_model_module": "@jupyter-widgets/controls",
            "_model_module_version": "1.5.0",
            "_model_name": "HBoxModel",
            "_view_count": null,
            "_view_module": "@jupyter-widgets/controls",
            "_view_module_version": "1.5.0",
            "_view_name": "HBoxView",
            "box_style": "",
            "children": [
              "IPY_MODEL_23ad5dcff48e484093fe53bad73ed84e",
              "IPY_MODEL_31c1346cd03e40f39223bbad10f7275f",
              "IPY_MODEL_25e336e4ad52451286c6dc3629e1a19a"
            ],
            "layout": "IPY_MODEL_f2538f31eaa44bec89124221a88058ec"
          }
        },
        "23ad5dcff48e484093fe53bad73ed84e": {
          "model_module": "@jupyter-widgets/controls",
          "model_name": "HTMLModel",
          "model_module_version": "1.5.0",
          "state": {
            "_dom_classes": [],
            "_model_module": "@jupyter-widgets/controls",
            "_model_module_version": "1.5.0",
            "_model_name": "HTMLModel",
            "_view_count": null,
            "_view_module": "@jupyter-widgets/controls",
            "_view_module_version": "1.5.0",
            "_view_name": "HTMLView",
            "description": "",
            "description_tooltip": null,
            "layout": "IPY_MODEL_b59445d12dab4230868c3463b8365c3a",
            "placeholder": "​",
            "style": "IPY_MODEL_e0c735bde3484ccbb25f427399c0c4fe",
            "value": "Downloading (…)&quot;pytorch_model.bin&quot;;: 100%"
          }
        },
        "31c1346cd03e40f39223bbad10f7275f": {
          "model_module": "@jupyter-widgets/controls",
          "model_name": "FloatProgressModel",
          "model_module_version": "1.5.0",
          "state": {
            "_dom_classes": [],
            "_model_module": "@jupyter-widgets/controls",
            "_model_module_version": "1.5.0",
            "_model_name": "FloatProgressModel",
            "_view_count": null,
            "_view_module": "@jupyter-widgets/controls",
            "_view_module_version": "1.5.0",
            "_view_name": "ProgressView",
            "bar_style": "success",
            "description": "",
            "description_tooltip": null,
            "layout": "IPY_MODEL_84aeb00a684e43c6860520f0d4ff708f",
            "max": 440473133,
            "min": 0,
            "orientation": "horizontal",
            "style": "IPY_MODEL_5d5b86e3dc344887af6cb870d76bc742",
            "value": 440473133
          }
        },
        "25e336e4ad52451286c6dc3629e1a19a": {
          "model_module": "@jupyter-widgets/controls",
          "model_name": "HTMLModel",
          "model_module_version": "1.5.0",
          "state": {
            "_dom_classes": [],
            "_model_module": "@jupyter-widgets/controls",
            "_model_module_version": "1.5.0",
            "_model_name": "HTMLModel",
            "_view_count": null,
            "_view_module": "@jupyter-widgets/controls",
            "_view_module_version": "1.5.0",
            "_view_name": "HTMLView",
            "description": "",
            "description_tooltip": null,
            "layout": "IPY_MODEL_1323b9bc45f24547aa51814de64f7bf4",
            "placeholder": "​",
            "style": "IPY_MODEL_0f25fd29683c4ddeb5b54a09fdeeb8ba",
            "value": " 440M/440M [00:01&lt;00:00, 273MB/s]"
          }
        },
        "f2538f31eaa44bec89124221a88058ec": {
          "model_module": "@jupyter-widgets/base",
          "model_name": "LayoutModel",
          "model_module_version": "1.2.0",
          "state": {
            "_model_module": "@jupyter-widgets/base",
            "_model_module_version": "1.2.0",
            "_model_name": "LayoutModel",
            "_view_count": null,
            "_view_module": "@jupyter-widgets/base",
            "_view_module_version": "1.2.0",
            "_view_name": "LayoutView",
            "align_content": null,
            "align_items": null,
            "align_self": null,
            "border": null,
            "bottom": null,
            "display": null,
            "flex": null,
            "flex_flow": null,
            "grid_area": null,
            "grid_auto_columns": null,
            "grid_auto_flow": null,
            "grid_auto_rows": null,
            "grid_column": null,
            "grid_gap": null,
            "grid_row": null,
            "grid_template_areas": null,
            "grid_template_columns": null,
            "grid_template_rows": null,
            "height": null,
            "justify_content": null,
            "justify_items": null,
            "left": null,
            "margin": null,
            "max_height": null,
            "max_width": null,
            "min_height": null,
            "min_width": null,
            "object_fit": null,
            "object_position": null,
            "order": null,
            "overflow": null,
            "overflow_x": null,
            "overflow_y": null,
            "padding": null,
            "right": null,
            "top": null,
            "visibility": null,
            "width": null
          }
        },
        "b59445d12dab4230868c3463b8365c3a": {
          "model_module": "@jupyter-widgets/base",
          "model_name": "LayoutModel",
          "model_module_version": "1.2.0",
          "state": {
            "_model_module": "@jupyter-widgets/base",
            "_model_module_version": "1.2.0",
            "_model_name": "LayoutModel",
            "_view_count": null,
            "_view_module": "@jupyter-widgets/base",
            "_view_module_version": "1.2.0",
            "_view_name": "LayoutView",
            "align_content": null,
            "align_items": null,
            "align_self": null,
            "border": null,
            "bottom": null,
            "display": null,
            "flex": null,
            "flex_flow": null,
            "grid_area": null,
            "grid_auto_columns": null,
            "grid_auto_flow": null,
            "grid_auto_rows": null,
            "grid_column": null,
            "grid_gap": null,
            "grid_row": null,
            "grid_template_areas": null,
            "grid_template_columns": null,
            "grid_template_rows": null,
            "height": null,
            "justify_content": null,
            "justify_items": null,
            "left": null,
            "margin": null,
            "max_height": null,
            "max_width": null,
            "min_height": null,
            "min_width": null,
            "object_fit": null,
            "object_position": null,
            "order": null,
            "overflow": null,
            "overflow_x": null,
            "overflow_y": null,
            "padding": null,
            "right": null,
            "top": null,
            "visibility": null,
            "width": null
          }
        },
        "e0c735bde3484ccbb25f427399c0c4fe": {
          "model_module": "@jupyter-widgets/controls",
          "model_name": "DescriptionStyleModel",
          "model_module_version": "1.5.0",
          "state": {
            "_model_module": "@jupyter-widgets/controls",
            "_model_module_version": "1.5.0",
            "_model_name": "DescriptionStyleModel",
            "_view_count": null,
            "_view_module": "@jupyter-widgets/base",
            "_view_module_version": "1.2.0",
            "_view_name": "StyleView",
            "description_width": ""
          }
        },
        "84aeb00a684e43c6860520f0d4ff708f": {
          "model_module": "@jupyter-widgets/base",
          "model_name": "LayoutModel",
          "model_module_version": "1.2.0",
          "state": {
            "_model_module": "@jupyter-widgets/base",
            "_model_module_version": "1.2.0",
            "_model_name": "LayoutModel",
            "_view_count": null,
            "_view_module": "@jupyter-widgets/base",
            "_view_module_version": "1.2.0",
            "_view_name": "LayoutView",
            "align_content": null,
            "align_items": null,
            "align_self": null,
            "border": null,
            "bottom": null,
            "display": null,
            "flex": null,
            "flex_flow": null,
            "grid_area": null,
            "grid_auto_columns": null,
            "grid_auto_flow": null,
            "grid_auto_rows": null,
            "grid_column": null,
            "grid_gap": null,
            "grid_row": null,
            "grid_template_areas": null,
            "grid_template_columns": null,
            "grid_template_rows": null,
            "height": null,
            "justify_content": null,
            "justify_items": null,
            "left": null,
            "margin": null,
            "max_height": null,
            "max_width": null,
            "min_height": null,
            "min_width": null,
            "object_fit": null,
            "object_position": null,
            "order": null,
            "overflow": null,
            "overflow_x": null,
            "overflow_y": null,
            "padding": null,
            "right": null,
            "top": null,
            "visibility": null,
            "width": null
          }
        },
        "5d5b86e3dc344887af6cb870d76bc742": {
          "model_module": "@jupyter-widgets/controls",
          "model_name": "ProgressStyleModel",
          "model_module_version": "1.5.0",
          "state": {
            "_model_module": "@jupyter-widgets/controls",
            "_model_module_version": "1.5.0",
            "_model_name": "ProgressStyleModel",
            "_view_count": null,
            "_view_module": "@jupyter-widgets/base",
            "_view_module_version": "1.2.0",
            "_view_name": "StyleView",
            "bar_color": null,
            "description_width": ""
          }
        },
        "1323b9bc45f24547aa51814de64f7bf4": {
          "model_module": "@jupyter-widgets/base",
          "model_name": "LayoutModel",
          "model_module_version": "1.2.0",
          "state": {
            "_model_module": "@jupyter-widgets/base",
            "_model_module_version": "1.2.0",
            "_model_name": "LayoutModel",
            "_view_count": null,
            "_view_module": "@jupyter-widgets/base",
            "_view_module_version": "1.2.0",
            "_view_name": "LayoutView",
            "align_content": null,
            "align_items": null,
            "align_self": null,
            "border": null,
            "bottom": null,
            "display": null,
            "flex": null,
            "flex_flow": null,
            "grid_area": null,
            "grid_auto_columns": null,
            "grid_auto_flow": null,
            "grid_auto_rows": null,
            "grid_column": null,
            "grid_gap": null,
            "grid_row": null,
            "grid_template_areas": null,
            "grid_template_columns": null,
            "grid_template_rows": null,
            "height": null,
            "justify_content": null,
            "justify_items": null,
            "left": null,
            "margin": null,
            "max_height": null,
            "max_width": null,
            "min_height": null,
            "min_width": null,
            "object_fit": null,
            "object_position": null,
            "order": null,
            "overflow": null,
            "overflow_x": null,
            "overflow_y": null,
            "padding": null,
            "right": null,
            "top": null,
            "visibility": null,
            "width": null
          }
        },
        "0f25fd29683c4ddeb5b54a09fdeeb8ba": {
          "model_module": "@jupyter-widgets/controls",
          "model_name": "DescriptionStyleModel",
          "model_module_version": "1.5.0",
          "state": {
            "_model_module": "@jupyter-widgets/controls",
            "_model_module_version": "1.5.0",
            "_model_name": "DescriptionStyleModel",
            "_view_count": null,
            "_view_module": "@jupyter-widgets/base",
            "_view_module_version": "1.2.0",
            "_view_name": "StyleView",
            "description_width": ""
          }
        },
        "7784ab157b8440bf8db853d0205e024b": {
          "model_module": "@jupyter-widgets/controls",
          "model_name": "HBoxModel",
          "model_module_version": "1.5.0",
          "state": {
            "_dom_classes": [],
            "_model_module": "@jupyter-widgets/controls",
            "_model_module_version": "1.5.0",
            "_model_name": "HBoxModel",
            "_view_count": null,
            "_view_module": "@jupyter-widgets/controls",
            "_view_module_version": "1.5.0",
            "_view_name": "HBoxView",
            "box_style": "",
            "children": [
              "IPY_MODEL_4b471ab8ca394e76abbde84b4b81f9d6",
              "IPY_MODEL_8c92101c5f9e41b094ba0713afc4a079",
              "IPY_MODEL_2122c677990e4ea4bac22e86b5500f96"
            ],
            "layout": "IPY_MODEL_ed8fa81f98564176a8a0890a2d5154f0"
          }
        },
        "4b471ab8ca394e76abbde84b4b81f9d6": {
          "model_module": "@jupyter-widgets/controls",
          "model_name": "HTMLModel",
          "model_module_version": "1.5.0",
          "state": {
            "_dom_classes": [],
            "_model_module": "@jupyter-widgets/controls",
            "_model_module_version": "1.5.0",
            "_model_name": "HTMLModel",
            "_view_count": null,
            "_view_module": "@jupyter-widgets/controls",
            "_view_module_version": "1.5.0",
            "_view_name": "HTMLView",
            "description": "",
            "description_tooltip": null,
            "layout": "IPY_MODEL_da86326b3bb04de9b32ac48edd2863b7",
            "placeholder": "​",
            "style": "IPY_MODEL_c1eeca72099b4ddeaa9ecec21922a90b",
            "value": "Downloading (…)okenizer_config.json: 100%"
          }
        },
        "8c92101c5f9e41b094ba0713afc4a079": {
          "model_module": "@jupyter-widgets/controls",
          "model_name": "FloatProgressModel",
          "model_module_version": "1.5.0",
          "state": {
            "_dom_classes": [],
            "_model_module": "@jupyter-widgets/controls",
            "_model_module_version": "1.5.0",
            "_model_name": "FloatProgressModel",
            "_view_count": null,
            "_view_module": "@jupyter-widgets/controls",
            "_view_module_version": "1.5.0",
            "_view_name": "ProgressView",
            "bar_style": "success",
            "description": "",
            "description_tooltip": null,
            "layout": "IPY_MODEL_48752266222b4baf9ba88b9d78cf54cd",
            "max": 28,
            "min": 0,
            "orientation": "horizontal",
            "style": "IPY_MODEL_1a5c33a09e33434690839bfd8921aa6f",
            "value": 28
          }
        },
        "2122c677990e4ea4bac22e86b5500f96": {
          "model_module": "@jupyter-widgets/controls",
          "model_name": "HTMLModel",
          "model_module_version": "1.5.0",
          "state": {
            "_dom_classes": [],
            "_model_module": "@jupyter-widgets/controls",
            "_model_module_version": "1.5.0",
            "_model_name": "HTMLModel",
            "_view_count": null,
            "_view_module": "@jupyter-widgets/controls",
            "_view_module_version": "1.5.0",
            "_view_name": "HTMLView",
            "description": "",
            "description_tooltip": null,
            "layout": "IPY_MODEL_a44a888528a74d669d1c2a1d3a37ab2b",
            "placeholder": "​",
            "style": "IPY_MODEL_0a83d41ca665499f97142a33cf5d5464",
            "value": " 28.0/28.0 [00:00&lt;00:00, 400B/s]"
          }
        },
        "ed8fa81f98564176a8a0890a2d5154f0": {
          "model_module": "@jupyter-widgets/base",
          "model_name": "LayoutModel",
          "model_module_version": "1.2.0",
          "state": {
            "_model_module": "@jupyter-widgets/base",
            "_model_module_version": "1.2.0",
            "_model_name": "LayoutModel",
            "_view_count": null,
            "_view_module": "@jupyter-widgets/base",
            "_view_module_version": "1.2.0",
            "_view_name": "LayoutView",
            "align_content": null,
            "align_items": null,
            "align_self": null,
            "border": null,
            "bottom": null,
            "display": null,
            "flex": null,
            "flex_flow": null,
            "grid_area": null,
            "grid_auto_columns": null,
            "grid_auto_flow": null,
            "grid_auto_rows": null,
            "grid_column": null,
            "grid_gap": null,
            "grid_row": null,
            "grid_template_areas": null,
            "grid_template_columns": null,
            "grid_template_rows": null,
            "height": null,
            "justify_content": null,
            "justify_items": null,
            "left": null,
            "margin": null,
            "max_height": null,
            "max_width": null,
            "min_height": null,
            "min_width": null,
            "object_fit": null,
            "object_position": null,
            "order": null,
            "overflow": null,
            "overflow_x": null,
            "overflow_y": null,
            "padding": null,
            "right": null,
            "top": null,
            "visibility": null,
            "width": null
          }
        },
        "da86326b3bb04de9b32ac48edd2863b7": {
          "model_module": "@jupyter-widgets/base",
          "model_name": "LayoutModel",
          "model_module_version": "1.2.0",
          "state": {
            "_model_module": "@jupyter-widgets/base",
            "_model_module_version": "1.2.0",
            "_model_name": "LayoutModel",
            "_view_count": null,
            "_view_module": "@jupyter-widgets/base",
            "_view_module_version": "1.2.0",
            "_view_name": "LayoutView",
            "align_content": null,
            "align_items": null,
            "align_self": null,
            "border": null,
            "bottom": null,
            "display": null,
            "flex": null,
            "flex_flow": null,
            "grid_area": null,
            "grid_auto_columns": null,
            "grid_auto_flow": null,
            "grid_auto_rows": null,
            "grid_column": null,
            "grid_gap": null,
            "grid_row": null,
            "grid_template_areas": null,
            "grid_template_columns": null,
            "grid_template_rows": null,
            "height": null,
            "justify_content": null,
            "justify_items": null,
            "left": null,
            "margin": null,
            "max_height": null,
            "max_width": null,
            "min_height": null,
            "min_width": null,
            "object_fit": null,
            "object_position": null,
            "order": null,
            "overflow": null,
            "overflow_x": null,
            "overflow_y": null,
            "padding": null,
            "right": null,
            "top": null,
            "visibility": null,
            "width": null
          }
        },
        "c1eeca72099b4ddeaa9ecec21922a90b": {
          "model_module": "@jupyter-widgets/controls",
          "model_name": "DescriptionStyleModel",
          "model_module_version": "1.5.0",
          "state": {
            "_model_module": "@jupyter-widgets/controls",
            "_model_module_version": "1.5.0",
            "_model_name": "DescriptionStyleModel",
            "_view_count": null,
            "_view_module": "@jupyter-widgets/base",
            "_view_module_version": "1.2.0",
            "_view_name": "StyleView",
            "description_width": ""
          }
        },
        "48752266222b4baf9ba88b9d78cf54cd": {
          "model_module": "@jupyter-widgets/base",
          "model_name": "LayoutModel",
          "model_module_version": "1.2.0",
          "state": {
            "_model_module": "@jupyter-widgets/base",
            "_model_module_version": "1.2.0",
            "_model_name": "LayoutModel",
            "_view_count": null,
            "_view_module": "@jupyter-widgets/base",
            "_view_module_version": "1.2.0",
            "_view_name": "LayoutView",
            "align_content": null,
            "align_items": null,
            "align_self": null,
            "border": null,
            "bottom": null,
            "display": null,
            "flex": null,
            "flex_flow": null,
            "grid_area": null,
            "grid_auto_columns": null,
            "grid_auto_flow": null,
            "grid_auto_rows": null,
            "grid_column": null,
            "grid_gap": null,
            "grid_row": null,
            "grid_template_areas": null,
            "grid_template_columns": null,
            "grid_template_rows": null,
            "height": null,
            "justify_content": null,
            "justify_items": null,
            "left": null,
            "margin": null,
            "max_height": null,
            "max_width": null,
            "min_height": null,
            "min_width": null,
            "object_fit": null,
            "object_position": null,
            "order": null,
            "overflow": null,
            "overflow_x": null,
            "overflow_y": null,
            "padding": null,
            "right": null,
            "top": null,
            "visibility": null,
            "width": null
          }
        },
        "1a5c33a09e33434690839bfd8921aa6f": {
          "model_module": "@jupyter-widgets/controls",
          "model_name": "ProgressStyleModel",
          "model_module_version": "1.5.0",
          "state": {
            "_model_module": "@jupyter-widgets/controls",
            "_model_module_version": "1.5.0",
            "_model_name": "ProgressStyleModel",
            "_view_count": null,
            "_view_module": "@jupyter-widgets/base",
            "_view_module_version": "1.2.0",
            "_view_name": "StyleView",
            "bar_color": null,
            "description_width": ""
          }
        },
        "a44a888528a74d669d1c2a1d3a37ab2b": {
          "model_module": "@jupyter-widgets/base",
          "model_name": "LayoutModel",
          "model_module_version": "1.2.0",
          "state": {
            "_model_module": "@jupyter-widgets/base",
            "_model_module_version": "1.2.0",
            "_model_name": "LayoutModel",
            "_view_count": null,
            "_view_module": "@jupyter-widgets/base",
            "_view_module_version": "1.2.0",
            "_view_name": "LayoutView",
            "align_content": null,
            "align_items": null,
            "align_self": null,
            "border": null,
            "bottom": null,
            "display": null,
            "flex": null,
            "flex_flow": null,
            "grid_area": null,
            "grid_auto_columns": null,
            "grid_auto_flow": null,
            "grid_auto_rows": null,
            "grid_column": null,
            "grid_gap": null,
            "grid_row": null,
            "grid_template_areas": null,
            "grid_template_columns": null,
            "grid_template_rows": null,
            "height": null,
            "justify_content": null,
            "justify_items": null,
            "left": null,
            "margin": null,
            "max_height": null,
            "max_width": null,
            "min_height": null,
            "min_width": null,
            "object_fit": null,
            "object_position": null,
            "order": null,
            "overflow": null,
            "overflow_x": null,
            "overflow_y": null,
            "padding": null,
            "right": null,
            "top": null,
            "visibility": null,
            "width": null
          }
        },
        "0a83d41ca665499f97142a33cf5d5464": {
          "model_module": "@jupyter-widgets/controls",
          "model_name": "DescriptionStyleModel",
          "model_module_version": "1.5.0",
          "state": {
            "_model_module": "@jupyter-widgets/controls",
            "_model_module_version": "1.5.0",
            "_model_name": "DescriptionStyleModel",
            "_view_count": null,
            "_view_module": "@jupyter-widgets/base",
            "_view_module_version": "1.2.0",
            "_view_name": "StyleView",
            "description_width": ""
          }
        },
        "eeb076ac66c246a1847233a094c4d2ed": {
          "model_module": "@jupyter-widgets/controls",
          "model_name": "HBoxModel",
          "model_module_version": "1.5.0",
          "state": {
            "_dom_classes": [],
            "_model_module": "@jupyter-widgets/controls",
            "_model_module_version": "1.5.0",
            "_model_name": "HBoxModel",
            "_view_count": null,
            "_view_module": "@jupyter-widgets/controls",
            "_view_module_version": "1.5.0",
            "_view_name": "HBoxView",
            "box_style": "",
            "children": [
              "IPY_MODEL_e347a6dc978741319ebe57894b7d6914",
              "IPY_MODEL_95a2e9a9b24043a58671e1d881c075c9",
              "IPY_MODEL_e33d0ae89c97490480ca38ee4304262c"
            ],
            "layout": "IPY_MODEL_66e94d90b76e480daaccefdd579db599"
          }
        },
        "e347a6dc978741319ebe57894b7d6914": {
          "model_module": "@jupyter-widgets/controls",
          "model_name": "HTMLModel",
          "model_module_version": "1.5.0",
          "state": {
            "_dom_classes": [],
            "_model_module": "@jupyter-widgets/controls",
            "_model_module_version": "1.5.0",
            "_model_name": "HTMLModel",
            "_view_count": null,
            "_view_module": "@jupyter-widgets/controls",
            "_view_module_version": "1.5.0",
            "_view_name": "HTMLView",
            "description": "",
            "description_tooltip": null,
            "layout": "IPY_MODEL_4b196c56adab41708b6b17d1e6828234",
            "placeholder": "​",
            "style": "IPY_MODEL_2568774547234d1eb3ed77b34056fed8",
            "value": "Downloading (…)solve/main/vocab.txt: 100%"
          }
        },
        "95a2e9a9b24043a58671e1d881c075c9": {
          "model_module": "@jupyter-widgets/controls",
          "model_name": "FloatProgressModel",
          "model_module_version": "1.5.0",
          "state": {
            "_dom_classes": [],
            "_model_module": "@jupyter-widgets/controls",
            "_model_module_version": "1.5.0",
            "_model_name": "FloatProgressModel",
            "_view_count": null,
            "_view_module": "@jupyter-widgets/controls",
            "_view_module_version": "1.5.0",
            "_view_name": "ProgressView",
            "bar_style": "success",
            "description": "",
            "description_tooltip": null,
            "layout": "IPY_MODEL_e682a0b2daab4f9eb769adc1a78199ba",
            "max": 231508,
            "min": 0,
            "orientation": "horizontal",
            "style": "IPY_MODEL_c86c676f33da446280dd56026b49e38d",
            "value": 231508
          }
        },
        "e33d0ae89c97490480ca38ee4304262c": {
          "model_module": "@jupyter-widgets/controls",
          "model_name": "HTMLModel",
          "model_module_version": "1.5.0",
          "state": {
            "_dom_classes": [],
            "_model_module": "@jupyter-widgets/controls",
            "_model_module_version": "1.5.0",
            "_model_name": "HTMLModel",
            "_view_count": null,
            "_view_module": "@jupyter-widgets/controls",
            "_view_module_version": "1.5.0",
            "_view_name": "HTMLView",
            "description": "",
            "description_tooltip": null,
            "layout": "IPY_MODEL_25f8c4b590b9447a8c14f9c594f0cf72",
            "placeholder": "​",
            "style": "IPY_MODEL_4be2684af082446292d922b53869a9fe",
            "value": " 232k/232k [00:00&lt;00:00, 3.42MB/s]"
          }
        },
        "66e94d90b76e480daaccefdd579db599": {
          "model_module": "@jupyter-widgets/base",
          "model_name": "LayoutModel",
          "model_module_version": "1.2.0",
          "state": {
            "_model_module": "@jupyter-widgets/base",
            "_model_module_version": "1.2.0",
            "_model_name": "LayoutModel",
            "_view_count": null,
            "_view_module": "@jupyter-widgets/base",
            "_view_module_version": "1.2.0",
            "_view_name": "LayoutView",
            "align_content": null,
            "align_items": null,
            "align_self": null,
            "border": null,
            "bottom": null,
            "display": null,
            "flex": null,
            "flex_flow": null,
            "grid_area": null,
            "grid_auto_columns": null,
            "grid_auto_flow": null,
            "grid_auto_rows": null,
            "grid_column": null,
            "grid_gap": null,
            "grid_row": null,
            "grid_template_areas": null,
            "grid_template_columns": null,
            "grid_template_rows": null,
            "height": null,
            "justify_content": null,
            "justify_items": null,
            "left": null,
            "margin": null,
            "max_height": null,
            "max_width": null,
            "min_height": null,
            "min_width": null,
            "object_fit": null,
            "object_position": null,
            "order": null,
            "overflow": null,
            "overflow_x": null,
            "overflow_y": null,
            "padding": null,
            "right": null,
            "top": null,
            "visibility": null,
            "width": null
          }
        },
        "4b196c56adab41708b6b17d1e6828234": {
          "model_module": "@jupyter-widgets/base",
          "model_name": "LayoutModel",
          "model_module_version": "1.2.0",
          "state": {
            "_model_module": "@jupyter-widgets/base",
            "_model_module_version": "1.2.0",
            "_model_name": "LayoutModel",
            "_view_count": null,
            "_view_module": "@jupyter-widgets/base",
            "_view_module_version": "1.2.0",
            "_view_name": "LayoutView",
            "align_content": null,
            "align_items": null,
            "align_self": null,
            "border": null,
            "bottom": null,
            "display": null,
            "flex": null,
            "flex_flow": null,
            "grid_area": null,
            "grid_auto_columns": null,
            "grid_auto_flow": null,
            "grid_auto_rows": null,
            "grid_column": null,
            "grid_gap": null,
            "grid_row": null,
            "grid_template_areas": null,
            "grid_template_columns": null,
            "grid_template_rows": null,
            "height": null,
            "justify_content": null,
            "justify_items": null,
            "left": null,
            "margin": null,
            "max_height": null,
            "max_width": null,
            "min_height": null,
            "min_width": null,
            "object_fit": null,
            "object_position": null,
            "order": null,
            "overflow": null,
            "overflow_x": null,
            "overflow_y": null,
            "padding": null,
            "right": null,
            "top": null,
            "visibility": null,
            "width": null
          }
        },
        "2568774547234d1eb3ed77b34056fed8": {
          "model_module": "@jupyter-widgets/controls",
          "model_name": "DescriptionStyleModel",
          "model_module_version": "1.5.0",
          "state": {
            "_model_module": "@jupyter-widgets/controls",
            "_model_module_version": "1.5.0",
            "_model_name": "DescriptionStyleModel",
            "_view_count": null,
            "_view_module": "@jupyter-widgets/base",
            "_view_module_version": "1.2.0",
            "_view_name": "StyleView",
            "description_width": ""
          }
        },
        "e682a0b2daab4f9eb769adc1a78199ba": {
          "model_module": "@jupyter-widgets/base",
          "model_name": "LayoutModel",
          "model_module_version": "1.2.0",
          "state": {
            "_model_module": "@jupyter-widgets/base",
            "_model_module_version": "1.2.0",
            "_model_name": "LayoutModel",
            "_view_count": null,
            "_view_module": "@jupyter-widgets/base",
            "_view_module_version": "1.2.0",
            "_view_name": "LayoutView",
            "align_content": null,
            "align_items": null,
            "align_self": null,
            "border": null,
            "bottom": null,
            "display": null,
            "flex": null,
            "flex_flow": null,
            "grid_area": null,
            "grid_auto_columns": null,
            "grid_auto_flow": null,
            "grid_auto_rows": null,
            "grid_column": null,
            "grid_gap": null,
            "grid_row": null,
            "grid_template_areas": null,
            "grid_template_columns": null,
            "grid_template_rows": null,
            "height": null,
            "justify_content": null,
            "justify_items": null,
            "left": null,
            "margin": null,
            "max_height": null,
            "max_width": null,
            "min_height": null,
            "min_width": null,
            "object_fit": null,
            "object_position": null,
            "order": null,
            "overflow": null,
            "overflow_x": null,
            "overflow_y": null,
            "padding": null,
            "right": null,
            "top": null,
            "visibility": null,
            "width": null
          }
        },
        "c86c676f33da446280dd56026b49e38d": {
          "model_module": "@jupyter-widgets/controls",
          "model_name": "ProgressStyleModel",
          "model_module_version": "1.5.0",
          "state": {
            "_model_module": "@jupyter-widgets/controls",
            "_model_module_version": "1.5.0",
            "_model_name": "ProgressStyleModel",
            "_view_count": null,
            "_view_module": "@jupyter-widgets/base",
            "_view_module_version": "1.2.0",
            "_view_name": "StyleView",
            "bar_color": null,
            "description_width": ""
          }
        },
        "25f8c4b590b9447a8c14f9c594f0cf72": {
          "model_module": "@jupyter-widgets/base",
          "model_name": "LayoutModel",
          "model_module_version": "1.2.0",
          "state": {
            "_model_module": "@jupyter-widgets/base",
            "_model_module_version": "1.2.0",
            "_model_name": "LayoutModel",
            "_view_count": null,
            "_view_module": "@jupyter-widgets/base",
            "_view_module_version": "1.2.0",
            "_view_name": "LayoutView",
            "align_content": null,
            "align_items": null,
            "align_self": null,
            "border": null,
            "bottom": null,
            "display": null,
            "flex": null,
            "flex_flow": null,
            "grid_area": null,
            "grid_auto_columns": null,
            "grid_auto_flow": null,
            "grid_auto_rows": null,
            "grid_column": null,
            "grid_gap": null,
            "grid_row": null,
            "grid_template_areas": null,
            "grid_template_columns": null,
            "grid_template_rows": null,
            "height": null,
            "justify_content": null,
            "justify_items": null,
            "left": null,
            "margin": null,
            "max_height": null,
            "max_width": null,
            "min_height": null,
            "min_width": null,
            "object_fit": null,
            "object_position": null,
            "order": null,
            "overflow": null,
            "overflow_x": null,
            "overflow_y": null,
            "padding": null,
            "right": null,
            "top": null,
            "visibility": null,
            "width": null
          }
        },
        "4be2684af082446292d922b53869a9fe": {
          "model_module": "@jupyter-widgets/controls",
          "model_name": "DescriptionStyleModel",
          "model_module_version": "1.5.0",
          "state": {
            "_model_module": "@jupyter-widgets/controls",
            "_model_module_version": "1.5.0",
            "_model_name": "DescriptionStyleModel",
            "_view_count": null,
            "_view_module": "@jupyter-widgets/base",
            "_view_module_version": "1.2.0",
            "_view_name": "StyleView",
            "description_width": ""
          }
        },
        "1eac3490547a4fafab20c6b12c99e38c": {
          "model_module": "@jupyter-widgets/controls",
          "model_name": "HBoxModel",
          "model_module_version": "1.5.0",
          "state": {
            "_dom_classes": [],
            "_model_module": "@jupyter-widgets/controls",
            "_model_module_version": "1.5.0",
            "_model_name": "HBoxModel",
            "_view_count": null,
            "_view_module": "@jupyter-widgets/controls",
            "_view_module_version": "1.5.0",
            "_view_name": "HBoxView",
            "box_style": "",
            "children": [
              "IPY_MODEL_49a637bd184043babaaf61ebdc1895c5",
              "IPY_MODEL_2101290d4fb24a97afda7446032e7660",
              "IPY_MODEL_9a6a9789d60e48d896a91f31a1783060"
            ],
            "layout": "IPY_MODEL_0c82ca6d6a1e4acd9e8ecf1d1e7d8189"
          }
        },
        "49a637bd184043babaaf61ebdc1895c5": {
          "model_module": "@jupyter-widgets/controls",
          "model_name": "HTMLModel",
          "model_module_version": "1.5.0",
          "state": {
            "_dom_classes": [],
            "_model_module": "@jupyter-widgets/controls",
            "_model_module_version": "1.5.0",
            "_model_name": "HTMLModel",
            "_view_count": null,
            "_view_module": "@jupyter-widgets/controls",
            "_view_module_version": "1.5.0",
            "_view_name": "HTMLView",
            "description": "",
            "description_tooltip": null,
            "layout": "IPY_MODEL_426002e5b5474776acb7aa2c61ce8c3b",
            "placeholder": "​",
            "style": "IPY_MODEL_42e43f9a78e346f093af8cbfc09c9fca",
            "value": "Downloading (…)/main/tokenizer.json: 100%"
          }
        },
        "2101290d4fb24a97afda7446032e7660": {
          "model_module": "@jupyter-widgets/controls",
          "model_name": "FloatProgressModel",
          "model_module_version": "1.5.0",
          "state": {
            "_dom_classes": [],
            "_model_module": "@jupyter-widgets/controls",
            "_model_module_version": "1.5.0",
            "_model_name": "FloatProgressModel",
            "_view_count": null,
            "_view_module": "@jupyter-widgets/controls",
            "_view_module_version": "1.5.0",
            "_view_name": "ProgressView",
            "bar_style": "success",
            "description": "",
            "description_tooltip": null,
            "layout": "IPY_MODEL_233825a975384a978e9f1f0d424e13cb",
            "max": 466062,
            "min": 0,
            "orientation": "horizontal",
            "style": "IPY_MODEL_16d1d880c3764913aece8f03bbdcf478",
            "value": 466062
          }
        },
        "9a6a9789d60e48d896a91f31a1783060": {
          "model_module": "@jupyter-widgets/controls",
          "model_name": "HTMLModel",
          "model_module_version": "1.5.0",
          "state": {
            "_dom_classes": [],
            "_model_module": "@jupyter-widgets/controls",
            "_model_module_version": "1.5.0",
            "_model_name": "HTMLModel",
            "_view_count": null,
            "_view_module": "@jupyter-widgets/controls",
            "_view_module_version": "1.5.0",
            "_view_name": "HTMLView",
            "description": "",
            "description_tooltip": null,
            "layout": "IPY_MODEL_7a53fb0d18444c619ca4a76e48b146eb",
            "placeholder": "​",
            "style": "IPY_MODEL_2204cc43392b470a8c8a3169b2f0ba70",
            "value": " 466k/466k [00:00&lt;00:00, 8.68MB/s]"
          }
        },
        "0c82ca6d6a1e4acd9e8ecf1d1e7d8189": {
          "model_module": "@jupyter-widgets/base",
          "model_name": "LayoutModel",
          "model_module_version": "1.2.0",
          "state": {
            "_model_module": "@jupyter-widgets/base",
            "_model_module_version": "1.2.0",
            "_model_name": "LayoutModel",
            "_view_count": null,
            "_view_module": "@jupyter-widgets/base",
            "_view_module_version": "1.2.0",
            "_view_name": "LayoutView",
            "align_content": null,
            "align_items": null,
            "align_self": null,
            "border": null,
            "bottom": null,
            "display": null,
            "flex": null,
            "flex_flow": null,
            "grid_area": null,
            "grid_auto_columns": null,
            "grid_auto_flow": null,
            "grid_auto_rows": null,
            "grid_column": null,
            "grid_gap": null,
            "grid_row": null,
            "grid_template_areas": null,
            "grid_template_columns": null,
            "grid_template_rows": null,
            "height": null,
            "justify_content": null,
            "justify_items": null,
            "left": null,
            "margin": null,
            "max_height": null,
            "max_width": null,
            "min_height": null,
            "min_width": null,
            "object_fit": null,
            "object_position": null,
            "order": null,
            "overflow": null,
            "overflow_x": null,
            "overflow_y": null,
            "padding": null,
            "right": null,
            "top": null,
            "visibility": null,
            "width": null
          }
        },
        "426002e5b5474776acb7aa2c61ce8c3b": {
          "model_module": "@jupyter-widgets/base",
          "model_name": "LayoutModel",
          "model_module_version": "1.2.0",
          "state": {
            "_model_module": "@jupyter-widgets/base",
            "_model_module_version": "1.2.0",
            "_model_name": "LayoutModel",
            "_view_count": null,
            "_view_module": "@jupyter-widgets/base",
            "_view_module_version": "1.2.0",
            "_view_name": "LayoutView",
            "align_content": null,
            "align_items": null,
            "align_self": null,
            "border": null,
            "bottom": null,
            "display": null,
            "flex": null,
            "flex_flow": null,
            "grid_area": null,
            "grid_auto_columns": null,
            "grid_auto_flow": null,
            "grid_auto_rows": null,
            "grid_column": null,
            "grid_gap": null,
            "grid_row": null,
            "grid_template_areas": null,
            "grid_template_columns": null,
            "grid_template_rows": null,
            "height": null,
            "justify_content": null,
            "justify_items": null,
            "left": null,
            "margin": null,
            "max_height": null,
            "max_width": null,
            "min_height": null,
            "min_width": null,
            "object_fit": null,
            "object_position": null,
            "order": null,
            "overflow": null,
            "overflow_x": null,
            "overflow_y": null,
            "padding": null,
            "right": null,
            "top": null,
            "visibility": null,
            "width": null
          }
        },
        "42e43f9a78e346f093af8cbfc09c9fca": {
          "model_module": "@jupyter-widgets/controls",
          "model_name": "DescriptionStyleModel",
          "model_module_version": "1.5.0",
          "state": {
            "_model_module": "@jupyter-widgets/controls",
            "_model_module_version": "1.5.0",
            "_model_name": "DescriptionStyleModel",
            "_view_count": null,
            "_view_module": "@jupyter-widgets/base",
            "_view_module_version": "1.2.0",
            "_view_name": "StyleView",
            "description_width": ""
          }
        },
        "233825a975384a978e9f1f0d424e13cb": {
          "model_module": "@jupyter-widgets/base",
          "model_name": "LayoutModel",
          "model_module_version": "1.2.0",
          "state": {
            "_model_module": "@jupyter-widgets/base",
            "_model_module_version": "1.2.0",
            "_model_name": "LayoutModel",
            "_view_count": null,
            "_view_module": "@jupyter-widgets/base",
            "_view_module_version": "1.2.0",
            "_view_name": "LayoutView",
            "align_content": null,
            "align_items": null,
            "align_self": null,
            "border": null,
            "bottom": null,
            "display": null,
            "flex": null,
            "flex_flow": null,
            "grid_area": null,
            "grid_auto_columns": null,
            "grid_auto_flow": null,
            "grid_auto_rows": null,
            "grid_column": null,
            "grid_gap": null,
            "grid_row": null,
            "grid_template_areas": null,
            "grid_template_columns": null,
            "grid_template_rows": null,
            "height": null,
            "justify_content": null,
            "justify_items": null,
            "left": null,
            "margin": null,
            "max_height": null,
            "max_width": null,
            "min_height": null,
            "min_width": null,
            "object_fit": null,
            "object_position": null,
            "order": null,
            "overflow": null,
            "overflow_x": null,
            "overflow_y": null,
            "padding": null,
            "right": null,
            "top": null,
            "visibility": null,
            "width": null
          }
        },
        "16d1d880c3764913aece8f03bbdcf478": {
          "model_module": "@jupyter-widgets/controls",
          "model_name": "ProgressStyleModel",
          "model_module_version": "1.5.0",
          "state": {
            "_model_module": "@jupyter-widgets/controls",
            "_model_module_version": "1.5.0",
            "_model_name": "ProgressStyleModel",
            "_view_count": null,
            "_view_module": "@jupyter-widgets/base",
            "_view_module_version": "1.2.0",
            "_view_name": "StyleView",
            "bar_color": null,
            "description_width": ""
          }
        },
        "7a53fb0d18444c619ca4a76e48b146eb": {
          "model_module": "@jupyter-widgets/base",
          "model_name": "LayoutModel",
          "model_module_version": "1.2.0",
          "state": {
            "_model_module": "@jupyter-widgets/base",
            "_model_module_version": "1.2.0",
            "_model_name": "LayoutModel",
            "_view_count": null,
            "_view_module": "@jupyter-widgets/base",
            "_view_module_version": "1.2.0",
            "_view_name": "LayoutView",
            "align_content": null,
            "align_items": null,
            "align_self": null,
            "border": null,
            "bottom": null,
            "display": null,
            "flex": null,
            "flex_flow": null,
            "grid_area": null,
            "grid_auto_columns": null,
            "grid_auto_flow": null,
            "grid_auto_rows": null,
            "grid_column": null,
            "grid_gap": null,
            "grid_row": null,
            "grid_template_areas": null,
            "grid_template_columns": null,
            "grid_template_rows": null,
            "height": null,
            "justify_content": null,
            "justify_items": null,
            "left": null,
            "margin": null,
            "max_height": null,
            "max_width": null,
            "min_height": null,
            "min_width": null,
            "object_fit": null,
            "object_position": null,
            "order": null,
            "overflow": null,
            "overflow_x": null,
            "overflow_y": null,
            "padding": null,
            "right": null,
            "top": null,
            "visibility": null,
            "width": null
          }
        },
        "2204cc43392b470a8c8a3169b2f0ba70": {
          "model_module": "@jupyter-widgets/controls",
          "model_name": "DescriptionStyleModel",
          "model_module_version": "1.5.0",
          "state": {
            "_model_module": "@jupyter-widgets/controls",
            "_model_module_version": "1.5.0",
            "_model_name": "DescriptionStyleModel",
            "_view_count": null,
            "_view_module": "@jupyter-widgets/base",
            "_view_module_version": "1.2.0",
            "_view_name": "StyleView",
            "description_width": ""
          }
        }
      }
    }
  },
  "nbformat_minor": 0,
  "nbformat": 4,
  "cells": [
    {
      "cell_type": "markdown",
      "source": [
        "**Test2Achieve - Alberta.ipynb**\n",
        "\n",
        "**Team: * Bharat Sharma * Adithya Vinod * Shanmukha Sai Penumatsa**\n",
        "\n",
        "**Course: DAAN 570 Deep Learning (Spring I, 2023)**"
      ],
      "metadata": {
        "id": "KNY9Tl7fSIZH"
      }
    },
    {
      "cell_type": "markdown",
      "source": [
        "**Problem Statement:**\n",
        "\n",
        "We have tried to solve this problem by breaking it down into two independent problem statements, namely: \n",
        "\n",
        "Automated Answer Generation: \n",
        "We will be using pretrained models like Bert, Roberta, Albert and Electra for answer generation tasks, where given a question or prompt, the model generates an answer. These models are trained on large amounts of text data and can learn to generate coherent and accurate responses. \n",
        "\n",
        "Automated Grading: \n",
        "The answer and scores are first passed through the LSTM which are then passed through the multiple neural layers to train the model. The trained model will return a score for each answer based on historic grading.\n",
        "\n",
        "In this python notebook we will be using ALBERTA - a pretrained language model to solve the answer generation problem statement.\n"
      ],
      "metadata": {
        "id": "4xiRUUzteEa9"
      }
    },
    {
      "cell_type": "code",
      "source": [
        "import json\n",
        "from pathlib import Path\n",
        "import torch\n",
        "from torch.utils.data import DataLoader\n",
        "import time\n"
      ],
      "metadata": {
        "id": "1ji6B0B4_Kph",
        "execution": {
          "iopub.status.busy": "2023-02-24T13:44:23.125825Z",
          "iopub.execute_input": "2023-02-24T13:44:23.126562Z",
          "iopub.status.idle": "2023-02-24T13:44:23.876220Z",
          "shell.execute_reply.started": "2023-02-24T13:44:23.126439Z",
          "shell.execute_reply": "2023-02-24T13:44:23.875046Z"
        },
        "trusted": true
      },
      "execution_count": null,
      "outputs": []
    },
    {
      "cell_type": "markdown",
      "source": [
        "**Data Collection:**\n",
        "\n",
        "We have used SQUAD 2.0 dataset for building the neural network for answer generation. It consists of a context along with a set of questions and their respective answers.\n",
        "\n",
        "We have used python function !wget to save the JSON data from the link https://rajpurkar.github.io/SQuAD-explorer/dataset/train-v2.0.json"
      ],
      "metadata": {
        "id": "PpYpteuWeJP-"
      }
    },
    {
      "cell_type": "code",
      "source": [
        " %%capture\n",
        "!mkdir squad\n",
        "!wget https://rajpurkar.github.io/SQuAD-explorer/dataset/train-v2.0.json -O squad/train-v2.0.json\n",
        "!wget https://rajpurkar.github.io/SQuAD-explorer/dataset/dev-v2.0.json -O squad/dev-v2.0.json"
      ],
      "metadata": {
        "id": "o1G4uoEo_M5S",
        "execution": {
          "iopub.status.busy": "2023-02-24T13:44:23.879787Z",
          "iopub.execute_input": "2023-02-24T13:44:23.880211Z",
          "iopub.status.idle": "2023-02-24T13:44:27.384178Z",
          "shell.execute_reply.started": "2023-02-24T13:44:23.880182Z",
          "shell.execute_reply": "2023-02-24T13:44:27.382835Z"
        },
        "trusted": true
      },
      "execution_count": null,
      "outputs": []
    },
    {
      "cell_type": "markdown",
      "source": [
        "**Required Package:** \n",
        "\n",
        "Transformers are not an inbuild packages in Colab and it needs to be installed seperately using pip install."
      ],
      "metadata": {
        "id": "sMCBNNPZeLYX"
      }
    },
    {
      "cell_type": "code",
      "source": [
        "!pip install transformers"
      ],
      "metadata": {
        "id": "-THKJX7a_M8a",
        "execution": {
          "iopub.status.busy": "2023-02-24T13:44:27.386100Z",
          "iopub.execute_input": "2023-02-24T13:44:27.386484Z",
          "iopub.status.idle": "2023-02-24T13:44:37.370452Z",
          "shell.execute_reply.started": "2023-02-24T13:44:27.386445Z",
          "shell.execute_reply": "2023-02-24T13:44:37.369220Z"
        },
        "trusted": true,
        "colab": {
          "base_uri": "https://localhost:8080/"
        },
        "outputId": "9887525e-b5b9-42dc-8b29-a600518b6108"
      },
      "execution_count": null,
      "outputs": [
        {
          "output_type": "stream",
          "name": "stdout",
          "text": [
            "Looking in indexes: https://pypi.org/simple, https://us-python.pkg.dev/colab-wheels/public/simple/\n",
            "Collecting transformers\n",
            "  Downloading transformers-4.26.1-py3-none-any.whl (6.3 MB)\n",
            "\u001b[2K     \u001b[90m━━━━━━━━━━━━━━━━━━━━━━━━━━━━━━━━━━━━━━━━\u001b[0m \u001b[32m6.3/6.3 MB\u001b[0m \u001b[31m10.5 MB/s\u001b[0m eta \u001b[36m0:00:00\u001b[0m\n",
            "\u001b[?25hCollecting huggingface-hub<1.0,>=0.11.0\n",
            "  Downloading huggingface_hub-0.12.1-py3-none-any.whl (190 kB)\n",
            "\u001b[2K     \u001b[90m━━━━━━━━━━━━━━━━━━━━━━━━━━━━━━━━━━━━━━\u001b[0m \u001b[32m190.3/190.3 KB\u001b[0m \u001b[31m12.8 MB/s\u001b[0m eta \u001b[36m0:00:00\u001b[0m\n",
            "\u001b[?25hRequirement already satisfied: requests in /usr/local/lib/python3.8/dist-packages (from transformers) (2.25.1)\n",
            "Requirement already satisfied: packaging>=20.0 in /usr/local/lib/python3.8/dist-packages (from transformers) (23.0)\n",
            "Requirement already satisfied: numpy>=1.17 in /usr/local/lib/python3.8/dist-packages (from transformers) (1.22.4)\n",
            "Requirement already satisfied: regex!=2019.12.17 in /usr/local/lib/python3.8/dist-packages (from transformers) (2022.6.2)\n",
            "Requirement already satisfied: tqdm>=4.27 in /usr/local/lib/python3.8/dist-packages (from transformers) (4.64.1)\n",
            "Collecting tokenizers!=0.11.3,<0.14,>=0.11.1\n",
            "  Downloading tokenizers-0.13.2-cp38-cp38-manylinux_2_17_x86_64.manylinux2014_x86_64.whl (7.6 MB)\n",
            "\u001b[2K     \u001b[90m━━━━━━━━━━━━━━━━━━━━━━━━━━━━━━━━━━━━━━━━\u001b[0m \u001b[32m7.6/7.6 MB\u001b[0m \u001b[31m60.6 MB/s\u001b[0m eta \u001b[36m0:00:00\u001b[0m\n",
            "\u001b[?25hRequirement already satisfied: filelock in /usr/local/lib/python3.8/dist-packages (from transformers) (3.9.0)\n",
            "Requirement already satisfied: pyyaml>=5.1 in /usr/local/lib/python3.8/dist-packages (from transformers) (6.0)\n",
            "Requirement already satisfied: typing-extensions>=3.7.4.3 in /usr/local/lib/python3.8/dist-packages (from huggingface-hub<1.0,>=0.11.0->transformers) (4.5.0)\n",
            "Requirement already satisfied: idna<3,>=2.5 in /usr/local/lib/python3.8/dist-packages (from requests->transformers) (2.10)\n",
            "Requirement already satisfied: certifi>=2017.4.17 in /usr/local/lib/python3.8/dist-packages (from requests->transformers) (2022.12.7)\n",
            "Requirement already satisfied: urllib3<1.27,>=1.21.1 in /usr/local/lib/python3.8/dist-packages (from requests->transformers) (1.24.3)\n",
            "Requirement already satisfied: chardet<5,>=3.0.2 in /usr/local/lib/python3.8/dist-packages (from requests->transformers) (4.0.0)\n",
            "Installing collected packages: tokenizers, huggingface-hub, transformers\n",
            "Successfully installed huggingface-hub-0.12.1 tokenizers-0.13.2 transformers-4.26.1\n"
          ]
        }
      ]
    },
    {
      "cell_type": "code",
      "source": [
        "import os\n",
        "\n",
        "os.getcwd() "
      ],
      "metadata": {
        "colab": {
          "base_uri": "https://localhost:8080/",
          "height": 35
        },
        "id": "IAAIl19aLEVT",
        "outputId": "f95e21c4-1a5e-4b47-9539-7a6c8bec26e0",
        "execution": {
          "iopub.status.busy": "2023-02-24T13:44:37.374402Z",
          "iopub.execute_input": "2023-02-24T13:44:37.375148Z",
          "iopub.status.idle": "2023-02-24T13:44:37.384516Z",
          "shell.execute_reply.started": "2023-02-24T13:44:37.375106Z",
          "shell.execute_reply": "2023-02-24T13:44:37.383439Z"
        },
        "trusted": true
      },
      "execution_count": null,
      "outputs": [
        {
          "output_type": "execute_result",
          "data": {
            "text/plain": [
              "'/content'"
            ],
            "application/vnd.google.colaboratory.intrinsic+json": {
              "type": "string"
            }
          },
          "metadata": {},
          "execution_count": 4
        }
      ]
    },
    {
      "cell_type": "code",
      "source": [
        "\n",
        "os.listdir() "
      ],
      "metadata": {
        "colab": {
          "base_uri": "https://localhost:8080/"
        },
        "id": "0SO3eyEhLMew",
        "outputId": "30f76e0a-0f90-45d8-d5c9-1c3bc55f92c9",
        "execution": {
          "iopub.status.busy": "2023-02-24T13:44:37.385699Z",
          "iopub.execute_input": "2023-02-24T13:44:37.386290Z",
          "iopub.status.idle": "2023-02-24T13:44:37.402936Z",
          "shell.execute_reply.started": "2023-02-24T13:44:37.386249Z",
          "shell.execute_reply": "2023-02-24T13:44:37.401772Z"
        },
        "trusted": true
      },
      "execution_count": null,
      "outputs": [
        {
          "output_type": "execute_result",
          "data": {
            "text/plain": [
              "['.config', 'squad', 'sample_data']"
            ]
          },
          "metadata": {},
          "execution_count": 5
        }
      ]
    },
    {
      "cell_type": "code",
      "source": [
        "with open('squad/train-v2.0.json', 'rb') as f:\n",
        "    squad_dict = json.load(f)\n",
        "\n",
        "texts = []\n",
        "queries = []\n",
        "answers = []\n",
        "\n",
        "\n",
        "for group in squad_dict['data']:\n",
        "    for passage in group['paragraphs']:\n",
        "        context = passage['context']\n",
        "        for qa in passage['qas']:\n",
        "            question = qa['question']\n",
        "            for answer in qa['answers']:\n",
        "                texts.append(context)\n",
        "                queries.append(question)\n",
        "                answers.append(answer)\n",
        "\n",
        "train_texts, train_queries, train_answers = texts, queries, answers"
      ],
      "metadata": {
        "id": "ce-zmZsr_M_E",
        "execution": {
          "iopub.status.busy": "2023-02-24T13:44:37.404627Z",
          "iopub.execute_input": "2023-02-24T13:44:37.405031Z",
          "iopub.status.idle": "2023-02-24T13:44:38.961552Z",
          "shell.execute_reply.started": "2023-02-24T13:44:37.404984Z",
          "shell.execute_reply": "2023-02-24T13:44:38.960586Z"
        },
        "trusted": true
      },
      "execution_count": null,
      "outputs": []
    },
    {
      "cell_type": "code",
      "source": [
        "train_texts_print = train_texts[:10]\n",
        "print(\"############# Train texts ####################\")\n",
        "print(train_texts_print)\n",
        "train_queries_print = train_queries[:10]\n",
        "print(\"############# train_queries ####################\")\n",
        "print(train_queries_print)\n",
        "train_answers_print = train_answers[:10]\n",
        "print(\"############# train_answers ####################\")\n",
        "train_answers_print"
      ],
      "metadata": {
        "colab": {
          "base_uri": "https://localhost:8080/"
        },
        "id": "0UBMTkLBN1it",
        "outputId": "a1284015-29c6-49ac-fdbc-a94c2653cb51",
        "execution": {
          "iopub.status.busy": "2023-02-24T13:44:38.963119Z",
          "iopub.execute_input": "2023-02-24T13:44:38.963490Z",
          "iopub.status.idle": "2023-02-24T13:44:38.975226Z",
          "shell.execute_reply.started": "2023-02-24T13:44:38.963453Z",
          "shell.execute_reply": "2023-02-24T13:44:38.974238Z"
        },
        "trusted": true
      },
      "execution_count": null,
      "outputs": [
        {
          "output_type": "stream",
          "name": "stdout",
          "text": [
            "############# Train texts ####################\n",
            "['Beyoncé Giselle Knowles-Carter (/biːˈjɒnseɪ/ bee-YON-say) (born September 4, 1981) is an American singer, songwriter, record producer and actress. Born and raised in Houston, Texas, she performed in various singing and dancing competitions as a child, and rose to fame in the late 1990s as lead singer of R&B girl-group Destiny\\'s Child. Managed by her father, Mathew Knowles, the group became one of the world\\'s best-selling girl groups of all time. Their hiatus saw the release of Beyoncé\\'s debut album, Dangerously in Love (2003), which established her as a solo artist worldwide, earned five Grammy Awards and featured the Billboard Hot 100 number-one singles \"Crazy in Love\" and \"Baby Boy\".', 'Beyoncé Giselle Knowles-Carter (/biːˈjɒnseɪ/ bee-YON-say) (born September 4, 1981) is an American singer, songwriter, record producer and actress. Born and raised in Houston, Texas, she performed in various singing and dancing competitions as a child, and rose to fame in the late 1990s as lead singer of R&B girl-group Destiny\\'s Child. Managed by her father, Mathew Knowles, the group became one of the world\\'s best-selling girl groups of all time. Their hiatus saw the release of Beyoncé\\'s debut album, Dangerously in Love (2003), which established her as a solo artist worldwide, earned five Grammy Awards and featured the Billboard Hot 100 number-one singles \"Crazy in Love\" and \"Baby Boy\".', 'Beyoncé Giselle Knowles-Carter (/biːˈjɒnseɪ/ bee-YON-say) (born September 4, 1981) is an American singer, songwriter, record producer and actress. Born and raised in Houston, Texas, she performed in various singing and dancing competitions as a child, and rose to fame in the late 1990s as lead singer of R&B girl-group Destiny\\'s Child. Managed by her father, Mathew Knowles, the group became one of the world\\'s best-selling girl groups of all time. Their hiatus saw the release of Beyoncé\\'s debut album, Dangerously in Love (2003), which established her as a solo artist worldwide, earned five Grammy Awards and featured the Billboard Hot 100 number-one singles \"Crazy in Love\" and \"Baby Boy\".', 'Beyoncé Giselle Knowles-Carter (/biːˈjɒnseɪ/ bee-YON-say) (born September 4, 1981) is an American singer, songwriter, record producer and actress. Born and raised in Houston, Texas, she performed in various singing and dancing competitions as a child, and rose to fame in the late 1990s as lead singer of R&B girl-group Destiny\\'s Child. Managed by her father, Mathew Knowles, the group became one of the world\\'s best-selling girl groups of all time. Their hiatus saw the release of Beyoncé\\'s debut album, Dangerously in Love (2003), which established her as a solo artist worldwide, earned five Grammy Awards and featured the Billboard Hot 100 number-one singles \"Crazy in Love\" and \"Baby Boy\".', 'Beyoncé Giselle Knowles-Carter (/biːˈjɒnseɪ/ bee-YON-say) (born September 4, 1981) is an American singer, songwriter, record producer and actress. Born and raised in Houston, Texas, she performed in various singing and dancing competitions as a child, and rose to fame in the late 1990s as lead singer of R&B girl-group Destiny\\'s Child. Managed by her father, Mathew Knowles, the group became one of the world\\'s best-selling girl groups of all time. Their hiatus saw the release of Beyoncé\\'s debut album, Dangerously in Love (2003), which established her as a solo artist worldwide, earned five Grammy Awards and featured the Billboard Hot 100 number-one singles \"Crazy in Love\" and \"Baby Boy\".', 'Beyoncé Giselle Knowles-Carter (/biːˈjɒnseɪ/ bee-YON-say) (born September 4, 1981) is an American singer, songwriter, record producer and actress. Born and raised in Houston, Texas, she performed in various singing and dancing competitions as a child, and rose to fame in the late 1990s as lead singer of R&B girl-group Destiny\\'s Child. Managed by her father, Mathew Knowles, the group became one of the world\\'s best-selling girl groups of all time. Their hiatus saw the release of Beyoncé\\'s debut album, Dangerously in Love (2003), which established her as a solo artist worldwide, earned five Grammy Awards and featured the Billboard Hot 100 number-one singles \"Crazy in Love\" and \"Baby Boy\".', 'Beyoncé Giselle Knowles-Carter (/biːˈjɒnseɪ/ bee-YON-say) (born September 4, 1981) is an American singer, songwriter, record producer and actress. Born and raised in Houston, Texas, she performed in various singing and dancing competitions as a child, and rose to fame in the late 1990s as lead singer of R&B girl-group Destiny\\'s Child. Managed by her father, Mathew Knowles, the group became one of the world\\'s best-selling girl groups of all time. Their hiatus saw the release of Beyoncé\\'s debut album, Dangerously in Love (2003), which established her as a solo artist worldwide, earned five Grammy Awards and featured the Billboard Hot 100 number-one singles \"Crazy in Love\" and \"Baby Boy\".', 'Beyoncé Giselle Knowles-Carter (/biːˈjɒnseɪ/ bee-YON-say) (born September 4, 1981) is an American singer, songwriter, record producer and actress. Born and raised in Houston, Texas, she performed in various singing and dancing competitions as a child, and rose to fame in the late 1990s as lead singer of R&B girl-group Destiny\\'s Child. Managed by her father, Mathew Knowles, the group became one of the world\\'s best-selling girl groups of all time. Their hiatus saw the release of Beyoncé\\'s debut album, Dangerously in Love (2003), which established her as a solo artist worldwide, earned five Grammy Awards and featured the Billboard Hot 100 number-one singles \"Crazy in Love\" and \"Baby Boy\".', 'Beyoncé Giselle Knowles-Carter (/biːˈjɒnseɪ/ bee-YON-say) (born September 4, 1981) is an American singer, songwriter, record producer and actress. Born and raised in Houston, Texas, she performed in various singing and dancing competitions as a child, and rose to fame in the late 1990s as lead singer of R&B girl-group Destiny\\'s Child. Managed by her father, Mathew Knowles, the group became one of the world\\'s best-selling girl groups of all time. Their hiatus saw the release of Beyoncé\\'s debut album, Dangerously in Love (2003), which established her as a solo artist worldwide, earned five Grammy Awards and featured the Billboard Hot 100 number-one singles \"Crazy in Love\" and \"Baby Boy\".', 'Beyoncé Giselle Knowles-Carter (/biːˈjɒnseɪ/ bee-YON-say) (born September 4, 1981) is an American singer, songwriter, record producer and actress. Born and raised in Houston, Texas, she performed in various singing and dancing competitions as a child, and rose to fame in the late 1990s as lead singer of R&B girl-group Destiny\\'s Child. Managed by her father, Mathew Knowles, the group became one of the world\\'s best-selling girl groups of all time. Their hiatus saw the release of Beyoncé\\'s debut album, Dangerously in Love (2003), which established her as a solo artist worldwide, earned five Grammy Awards and featured the Billboard Hot 100 number-one singles \"Crazy in Love\" and \"Baby Boy\".']\n",
            "############# train_queries ####################\n",
            "['When did Beyonce start becoming popular?', 'What areas did Beyonce compete in when she was growing up?', \"When did Beyonce leave Destiny's Child and become a solo singer?\", 'In what city and state did Beyonce  grow up? ', 'In which decade did Beyonce become famous?', 'In what R&B group was she the lead singer?', 'What album made her a worldwide known artist?', \"Who managed the Destiny's Child group?\", 'When did Beyoncé rise to fame?', \"What role did Beyoncé have in Destiny's Child?\"]\n",
            "############# train_answers ####################\n"
          ]
        },
        {
          "output_type": "execute_result",
          "data": {
            "text/plain": [
              "[{'text': 'in the late 1990s', 'answer_start': 269},\n",
              " {'text': 'singing and dancing', 'answer_start': 207},\n",
              " {'text': '2003', 'answer_start': 526},\n",
              " {'text': 'Houston, Texas', 'answer_start': 166},\n",
              " {'text': 'late 1990s', 'answer_start': 276},\n",
              " {'text': \"Destiny's Child\", 'answer_start': 320},\n",
              " {'text': 'Dangerously in Love', 'answer_start': 505},\n",
              " {'text': 'Mathew Knowles', 'answer_start': 360},\n",
              " {'text': 'late 1990s', 'answer_start': 276},\n",
              " {'text': 'lead singer', 'answer_start': 290}]"
            ]
          },
          "metadata": {},
          "execution_count": 7
        }
      ]
    },
    {
      "cell_type": "code",
      "source": [
        "path = Path('squad/dev-v2.0.json')\n",
        "\n",
        "with open(path, 'rb') as f:\n",
        "    squad_dict = json.load(f)\n",
        "\n",
        "texts = []\n",
        "queries = []\n",
        "answers = []\n",
        "\n",
        "for group in squad_dict['data']:\n",
        "    for passage in group['paragraphs']:\n",
        "        context = passage['context']\n",
        "        for qa in passage['qas']:\n",
        "            question = qa['question']\n",
        "            for answer in qa['answers']:\n",
        "                texts.append(context)\n",
        "                queries.append(question)\n",
        "                answers.append(answer)\n",
        "\n",
        "val_texts, val_queries, val_answers = texts, queries, answers"
      ],
      "metadata": {
        "id": "CQWfzfQX_NBw",
        "execution": {
          "iopub.status.busy": "2023-02-24T13:44:38.977083Z",
          "iopub.execute_input": "2023-02-24T13:44:38.977884Z",
          "iopub.status.idle": "2023-02-24T13:44:39.138707Z",
          "shell.execute_reply.started": "2023-02-24T13:44:38.977841Z",
          "shell.execute_reply": "2023-02-24T13:44:39.137588Z"
        },
        "trusted": true
      },
      "execution_count": null,
      "outputs": []
    },
    {
      "cell_type": "code",
      "source": [
        "val_texts_print = val_texts[:10]\n",
        "print(\"############# Train texts ####################\")\n",
        "print(val_texts_print)\n",
        "val_queries_print = val_queries[:10]\n",
        "print(\"############# train_queries ####################\")\n",
        "print(val_queries_print)\n",
        "val_answers_print = val_answers[:10]\n",
        "print(\"############# train_answers ####################\")\n",
        "val_answers_print"
      ],
      "metadata": {
        "colab": {
          "base_uri": "https://localhost:8080/"
        },
        "id": "REfnQe9eRx1i",
        "outputId": "31329072-7b78-49b1-aa9d-0ca059e67940",
        "execution": {
          "iopub.status.busy": "2023-02-24T13:44:39.139939Z",
          "iopub.execute_input": "2023-02-24T13:44:39.140315Z",
          "iopub.status.idle": "2023-02-24T13:44:39.150587Z",
          "shell.execute_reply.started": "2023-02-24T13:44:39.140267Z",
          "shell.execute_reply": "2023-02-24T13:44:39.149246Z"
        },
        "trusted": true
      },
      "execution_count": null,
      "outputs": [
        {
          "output_type": "stream",
          "name": "stdout",
          "text": [
            "############# Train texts ####################\n",
            "['The Normans (Norman: Nourmands; French: Normands; Latin: Normanni) were the people who in the 10th and 11th centuries gave their name to Normandy, a region in France. They were descended from Norse (\"Norman\" comes from \"Norseman\") raiders and pirates from Denmark, Iceland and Norway who, under their leader Rollo, agreed to swear fealty to King Charles III of West Francia. Through generations of assimilation and mixing with the native Frankish and Roman-Gaulish populations, their descendants would gradually merge with the Carolingian-based cultures of West Francia. The distinct cultural and ethnic identity of the Normans emerged initially in the first half of the 10th century, and it continued to evolve over the succeeding centuries.', 'The Normans (Norman: Nourmands; French: Normands; Latin: Normanni) were the people who in the 10th and 11th centuries gave their name to Normandy, a region in France. They were descended from Norse (\"Norman\" comes from \"Norseman\") raiders and pirates from Denmark, Iceland and Norway who, under their leader Rollo, agreed to swear fealty to King Charles III of West Francia. Through generations of assimilation and mixing with the native Frankish and Roman-Gaulish populations, their descendants would gradually merge with the Carolingian-based cultures of West Francia. The distinct cultural and ethnic identity of the Normans emerged initially in the first half of the 10th century, and it continued to evolve over the succeeding centuries.', 'The Normans (Norman: Nourmands; French: Normands; Latin: Normanni) were the people who in the 10th and 11th centuries gave their name to Normandy, a region in France. They were descended from Norse (\"Norman\" comes from \"Norseman\") raiders and pirates from Denmark, Iceland and Norway who, under their leader Rollo, agreed to swear fealty to King Charles III of West Francia. Through generations of assimilation and mixing with the native Frankish and Roman-Gaulish populations, their descendants would gradually merge with the Carolingian-based cultures of West Francia. The distinct cultural and ethnic identity of the Normans emerged initially in the first half of the 10th century, and it continued to evolve over the succeeding centuries.', 'The Normans (Norman: Nourmands; French: Normands; Latin: Normanni) were the people who in the 10th and 11th centuries gave their name to Normandy, a region in France. They were descended from Norse (\"Norman\" comes from \"Norseman\") raiders and pirates from Denmark, Iceland and Norway who, under their leader Rollo, agreed to swear fealty to King Charles III of West Francia. Through generations of assimilation and mixing with the native Frankish and Roman-Gaulish populations, their descendants would gradually merge with the Carolingian-based cultures of West Francia. The distinct cultural and ethnic identity of the Normans emerged initially in the first half of the 10th century, and it continued to evolve over the succeeding centuries.', 'The Normans (Norman: Nourmands; French: Normands; Latin: Normanni) were the people who in the 10th and 11th centuries gave their name to Normandy, a region in France. They were descended from Norse (\"Norman\" comes from \"Norseman\") raiders and pirates from Denmark, Iceland and Norway who, under their leader Rollo, agreed to swear fealty to King Charles III of West Francia. Through generations of assimilation and mixing with the native Frankish and Roman-Gaulish populations, their descendants would gradually merge with the Carolingian-based cultures of West Francia. The distinct cultural and ethnic identity of the Normans emerged initially in the first half of the 10th century, and it continued to evolve over the succeeding centuries.', 'The Normans (Norman: Nourmands; French: Normands; Latin: Normanni) were the people who in the 10th and 11th centuries gave their name to Normandy, a region in France. They were descended from Norse (\"Norman\" comes from \"Norseman\") raiders and pirates from Denmark, Iceland and Norway who, under their leader Rollo, agreed to swear fealty to King Charles III of West Francia. Through generations of assimilation and mixing with the native Frankish and Roman-Gaulish populations, their descendants would gradually merge with the Carolingian-based cultures of West Francia. The distinct cultural and ethnic identity of the Normans emerged initially in the first half of the 10th century, and it continued to evolve over the succeeding centuries.', 'The Normans (Norman: Nourmands; French: Normands; Latin: Normanni) were the people who in the 10th and 11th centuries gave their name to Normandy, a region in France. They were descended from Norse (\"Norman\" comes from \"Norseman\") raiders and pirates from Denmark, Iceland and Norway who, under their leader Rollo, agreed to swear fealty to King Charles III of West Francia. Through generations of assimilation and mixing with the native Frankish and Roman-Gaulish populations, their descendants would gradually merge with the Carolingian-based cultures of West Francia. The distinct cultural and ethnic identity of the Normans emerged initially in the first half of the 10th century, and it continued to evolve over the succeeding centuries.', 'The Normans (Norman: Nourmands; French: Normands; Latin: Normanni) were the people who in the 10th and 11th centuries gave their name to Normandy, a region in France. They were descended from Norse (\"Norman\" comes from \"Norseman\") raiders and pirates from Denmark, Iceland and Norway who, under their leader Rollo, agreed to swear fealty to King Charles III of West Francia. Through generations of assimilation and mixing with the native Frankish and Roman-Gaulish populations, their descendants would gradually merge with the Carolingian-based cultures of West Francia. The distinct cultural and ethnic identity of the Normans emerged initially in the first half of the 10th century, and it continued to evolve over the succeeding centuries.', 'The Normans (Norman: Nourmands; French: Normands; Latin: Normanni) were the people who in the 10th and 11th centuries gave their name to Normandy, a region in France. They were descended from Norse (\"Norman\" comes from \"Norseman\") raiders and pirates from Denmark, Iceland and Norway who, under their leader Rollo, agreed to swear fealty to King Charles III of West Francia. Through generations of assimilation and mixing with the native Frankish and Roman-Gaulish populations, their descendants would gradually merge with the Carolingian-based cultures of West Francia. The distinct cultural and ethnic identity of the Normans emerged initially in the first half of the 10th century, and it continued to evolve over the succeeding centuries.', 'The Normans (Norman: Nourmands; French: Normands; Latin: Normanni) were the people who in the 10th and 11th centuries gave their name to Normandy, a region in France. They were descended from Norse (\"Norman\" comes from \"Norseman\") raiders and pirates from Denmark, Iceland and Norway who, under their leader Rollo, agreed to swear fealty to King Charles III of West Francia. Through generations of assimilation and mixing with the native Frankish and Roman-Gaulish populations, their descendants would gradually merge with the Carolingian-based cultures of West Francia. The distinct cultural and ethnic identity of the Normans emerged initially in the first half of the 10th century, and it continued to evolve over the succeeding centuries.']\n",
            "############# train_queries ####################\n",
            "['In what country is Normandy located?', 'In what country is Normandy located?', 'In what country is Normandy located?', 'In what country is Normandy located?', 'When were the Normans in Normandy?', 'When were the Normans in Normandy?', 'When were the Normans in Normandy?', 'When were the Normans in Normandy?', 'From which countries did the Norse originate?', 'From which countries did the Norse originate?']\n",
            "############# train_answers ####################\n"
          ]
        },
        {
          "output_type": "execute_result",
          "data": {
            "text/plain": [
              "[{'text': 'France', 'answer_start': 159},\n",
              " {'text': 'France', 'answer_start': 159},\n",
              " {'text': 'France', 'answer_start': 159},\n",
              " {'text': 'France', 'answer_start': 159},\n",
              " {'text': '10th and 11th centuries', 'answer_start': 94},\n",
              " {'text': 'in the 10th and 11th centuries', 'answer_start': 87},\n",
              " {'text': '10th and 11th centuries', 'answer_start': 94},\n",
              " {'text': '10th and 11th centuries', 'answer_start': 94},\n",
              " {'text': 'Denmark, Iceland and Norway', 'answer_start': 256},\n",
              " {'text': 'Denmark, Iceland and Norway', 'answer_start': 256}]"
            ]
          },
          "metadata": {},
          "execution_count": 9
        }
      ]
    },
    {
      "cell_type": "code",
      "source": [
        "print(len(train_texts))\n",
        "print(len(train_queries))\n",
        "print(len(train_answers))"
      ],
      "metadata": {
        "colab": {
          "base_uri": "https://localhost:8080/"
        },
        "id": "6FOEdSOP_ND8",
        "outputId": "609c4ebb-9838-42c5-ee5b-f53ef1e0906b",
        "execution": {
          "iopub.status.busy": "2023-02-24T13:44:39.152082Z",
          "iopub.execute_input": "2023-02-24T13:44:39.153187Z",
          "iopub.status.idle": "2023-02-24T13:44:39.163569Z",
          "shell.execute_reply.started": "2023-02-24T13:44:39.153149Z",
          "shell.execute_reply": "2023-02-24T13:44:39.162181Z"
        },
        "trusted": true
      },
      "execution_count": null,
      "outputs": [
        {
          "output_type": "stream",
          "name": "stdout",
          "text": [
            "86821\n",
            "86821\n",
            "86821\n"
          ]
        }
      ]
    },
    {
      "cell_type": "code",
      "source": [
        "print(\"Passage: \",train_texts[0])  \n",
        "print(\"Query: \",train_queries[0])\n",
        "print(\"Answer: \",train_answers[0])"
      ],
      "metadata": {
        "colab": {
          "base_uri": "https://localhost:8080/"
        },
        "id": "9gxCf5MB_dRf",
        "outputId": "28a62aed-3cda-4625-c42a-55e2e1768696",
        "execution": {
          "iopub.status.busy": "2023-02-24T13:44:39.165190Z",
          "iopub.execute_input": "2023-02-24T13:44:39.166202Z",
          "iopub.status.idle": "2023-02-24T13:44:39.174288Z",
          "shell.execute_reply.started": "2023-02-24T13:44:39.166164Z",
          "shell.execute_reply": "2023-02-24T13:44:39.172939Z"
        },
        "trusted": true
      },
      "execution_count": null,
      "outputs": [
        {
          "output_type": "stream",
          "name": "stdout",
          "text": [
            "Passage:  Beyoncé Giselle Knowles-Carter (/biːˈjɒnseɪ/ bee-YON-say) (born September 4, 1981) is an American singer, songwriter, record producer and actress. Born and raised in Houston, Texas, she performed in various singing and dancing competitions as a child, and rose to fame in the late 1990s as lead singer of R&B girl-group Destiny's Child. Managed by her father, Mathew Knowles, the group became one of the world's best-selling girl groups of all time. Their hiatus saw the release of Beyoncé's debut album, Dangerously in Love (2003), which established her as a solo artist worldwide, earned five Grammy Awards and featured the Billboard Hot 100 number-one singles \"Crazy in Love\" and \"Baby Boy\".\n",
            "Query:  When did Beyonce start becoming popular?\n",
            "Answer:  {'text': 'in the late 1990s', 'answer_start': 269}\n"
          ]
        }
      ]
    },
    {
      "cell_type": "code",
      "source": [
        "train_texts = train_texts[:40000]\n",
        "train_queries = train_queries[:40000]\n",
        "train_answers = train_answers[:40000]\n",
        "\n",
        "val_texts = val_texts[:40000]\n",
        "val_queries = val_queries[:40000]\n",
        "val_answers = val_answers[:40000]\n",
        "\n",
        "\n",
        "# Initial model - 2\n",
        "#train_texts = train_texts[:60000]\n",
        "#train_queries = train_queries[:60000]\n",
        "#train_answers = train_answers[:60000]\n",
        "\n",
        "#val_texts = val_texts[:60000]\n",
        "#val_queries = val_queries[:60000]\n",
        "#val_answers = val_answers[:60000]\n",
        "\n",
        "print(len(train_texts))\n",
        "print(len(train_queries))\n",
        "print(len(train_answers))\n",
        "\n",
        "\n",
        "print(len(val_texts))\n",
        "print(len(val_queries))\n",
        "print(len(val_answers))"
      ],
      "metadata": {
        "id": "NTKdvfMp_Ph5",
        "execution": {
          "iopub.status.busy": "2023-02-24T13:44:39.176257Z",
          "iopub.execute_input": "2023-02-24T13:44:39.177111Z",
          "iopub.status.idle": "2023-02-24T13:44:39.216037Z",
          "shell.execute_reply.started": "2023-02-24T13:44:39.177070Z",
          "shell.execute_reply": "2023-02-24T13:44:39.214587Z"
        },
        "trusted": true,
        "colab": {
          "base_uri": "https://localhost:8080/"
        },
        "outputId": "3a1daa04-9763-4ded-b05e-93d2d65e82f9"
      },
      "execution_count": null,
      "outputs": [
        {
          "output_type": "stream",
          "name": "stdout",
          "text": [
            "40000\n",
            "40000\n",
            "40000\n",
            "20302\n",
            "20302\n",
            "20302\n"
          ]
        }
      ]
    },
    {
      "cell_type": "markdown",
      "source": [
        "**Data Preprocessing:**\n",
        "\n",
        "Finding the end position character is a very important input for all the answer generation models as it needs both start and end position characters of the answer. This needs to be found and stored."
      ],
      "metadata": {
        "id": "vqupGdEUeS38"
      }
    },
    {
      "cell_type": "code",
      "source": [
        "for answer, text in zip(train_answers, train_texts):\n",
        "    real_answer = answer['text']\n",
        "    start_idx = answer['answer_start']\n",
        "    end_idx = start_idx + len(real_answer)\n",
        "\n",
        "    if text[start_idx:end_idx] == real_answer:\n",
        "        answer['answer_end'] = end_idx\n",
        "\n",
        "    elif text[start_idx-1:end_idx-1] == real_answer:\n",
        "        answer['answer_start'] = start_idx - 1\n",
        "        answer['answer_end'] = end_idx - 1  \n",
        "\n",
        "    elif text[start_idx-2:end_idx-2] == real_answer:\n",
        "        answer['answer_start'] = start_idx - 2\n",
        "        answer['answer_end'] = end_idx - 2    "
      ],
      "metadata": {
        "id": "B2eVH9gf_NHf",
        "execution": {
          "iopub.status.busy": "2023-02-24T13:44:39.222185Z",
          "iopub.execute_input": "2023-02-24T13:44:39.222501Z",
          "iopub.status.idle": "2023-02-24T13:44:39.245996Z",
          "shell.execute_reply.started": "2023-02-24T13:44:39.222472Z",
          "shell.execute_reply": "2023-02-24T13:44:39.244749Z"
        },
        "trusted": true
      },
      "execution_count": null,
      "outputs": []
    },
    {
      "cell_type": "code",
      "source": [
        "for answer, text in zip(val_answers, val_texts):\n",
        "    real_answer = answer['text']\n",
        "    start_idx = answer['answer_start']\n",
        "    end_idx = start_idx + len(real_answer)\n",
        "\n",
        "    if text[start_idx:end_idx] == real_answer:\n",
        "        answer['answer_end'] = end_idx\n",
        "\n",
        "    elif text[start_idx-1:end_idx-1] == real_answer:\n",
        "        answer['answer_start'] = start_idx - 1\n",
        "        answer['answer_end'] = end_idx - 1  \n",
        "\n",
        "    elif text[start_idx-2:end_idx-2] == real_answer:\n",
        "        answer['answer_start'] = start_idx - 2\n",
        "        answer['answer_end'] = end_idx - 2   "
      ],
      "metadata": {
        "id": "A5lPFOQ7_ZKL",
        "execution": {
          "iopub.status.busy": "2023-02-24T13:44:39.247644Z",
          "iopub.execute_input": "2023-02-24T13:44:39.248571Z",
          "iopub.status.idle": "2023-02-24T13:44:39.271736Z",
          "shell.execute_reply.started": "2023-02-24T13:44:39.248510Z",
          "shell.execute_reply": "2023-02-24T13:44:39.270594Z"
        },
        "trusted": true
      },
      "execution_count": null,
      "outputs": []
    },
    {
      "cell_type": "markdown",
      "source": [
        "**Methodology:**\n",
        "\n",
        "1. Tokenize the text.\n",
        "2. Identifying the start and end position of each answer.\n",
        "3. Using pre-trained models to train the model.\n",
        "4. Evaluating the performance using F1 score and loss values.\n",
        "5. Model weights are saved."
      ],
      "metadata": {
        "id": "bIJsbFY_eWMw"
      }
    },
    {
      "cell_type": "code",
      "source": [
        "from transformers import AutoTokenizer,AdamW, AlbertForQuestionAnswering\n",
        "tokenizer = AutoTokenizer.from_pretrained(\"albert-base-v2\")\n"
      ],
      "metadata": {
        "id": "IBVlO1h6_ZRJ",
        "execution": {
          "iopub.status.busy": "2023-02-24T13:44:39.273234Z",
          "iopub.execute_input": "2023-02-24T13:44:39.273829Z",
          "iopub.status.idle": "2023-02-24T13:44:43.978395Z",
          "shell.execute_reply.started": "2023-02-24T13:44:39.273766Z",
          "shell.execute_reply": "2023-02-24T13:44:43.977149Z"
        },
        "trusted": true
      },
      "execution_count": null,
      "outputs": []
    },
    {
      "cell_type": "code",
      "source": [
        "train_encodings = tokenizer(train_texts, train_queries, truncation=True, padding=True)\n",
        "val_encodings = tokenizer(val_texts, val_queries, truncation=True, padding=True)"
      ],
      "metadata": {
        "execution": {
          "iopub.status.busy": "2023-02-24T13:44:43.980140Z",
          "iopub.execute_input": "2023-02-24T13:44:43.980554Z",
          "iopub.status.idle": "2023-02-24T13:45:08.313377Z",
          "shell.execute_reply.started": "2023-02-24T13:44:43.980494Z",
          "shell.execute_reply": "2023-02-24T13:45:08.312344Z"
        },
        "trusted": true,
        "id": "-aUglm9WvxP4"
      },
      "execution_count": null,
      "outputs": []
    },
    {
      "cell_type": "code",
      "source": [
        "def add_token_positions(encodings, answers):\n",
        "  start_positions = []\n",
        "  end_positions = []\n",
        "\n",
        "  count = 0\n",
        "\n",
        "  for i in range(len(answers)):\n",
        "    start_positions.append(encodings.char_to_token(i, answers[i]['answer_start']))\n",
        "    end_positions.append(encodings.char_to_token(i, answers[i]['answer_end']))\n",
        "\n",
        "    if start_positions[-1] is None:\n",
        "      start_positions[-1] = tokenizer.model_max_length\n",
        "      \n",
        "    if end_positions[-1] is None:\n",
        "      end_positions[-1] = encodings.char_to_token(i, answers[i]['answer_end'] - 1)\n",
        "\n",
        "      if end_positions[-1] is None:\n",
        "        count += 1\n",
        "        end_positions[-1] = tokenizer.model_max_length\n",
        "\n",
        "  print(count)\n",
        "\n",
        "  encodings.update({'start_positions': start_positions, 'end_positions': end_positions})\n",
        "\n",
        "add_token_positions(train_encodings, train_answers)\n",
        "add_token_positions(val_encodings, val_answers)"
      ],
      "metadata": {
        "colab": {
          "base_uri": "https://localhost:8080/"
        },
        "id": "n7zda7W8_ZUn",
        "outputId": "69e29cbc-9431-4ba8-e3a4-6250c306c1d2",
        "execution": {
          "iopub.status.busy": "2023-02-24T13:45:08.314785Z",
          "iopub.execute_input": "2023-02-24T13:45:08.315409Z",
          "iopub.status.idle": "2023-02-24T13:45:08.494326Z",
          "shell.execute_reply.started": "2023-02-24T13:45:08.315367Z",
          "shell.execute_reply": "2023-02-24T13:45:08.493278Z"
        },
        "trusted": true
      },
      "execution_count": null,
      "outputs": [
        {
          "name": "stdout",
          "text": "3\n19\n",
          "output_type": "stream"
        }
      ]
    },
    {
      "cell_type": "code",
      "source": [
        "class SquadDataset(torch.utils.data.Dataset):\n",
        "    def __init__(self, encodings):\n",
        "        self.encodings = encodings\n",
        "\n",
        "    def __getitem__(self, idx):\n",
        "        return {key: torch.tensor(val[idx]) for key, val in self.encodings.items()}\n",
        "\n",
        "    def __len__(self):\n",
        "        return len(self.encodings.input_ids)"
      ],
      "metadata": {
        "id": "gCLId6EI_5KZ",
        "execution": {
          "iopub.status.busy": "2023-02-24T13:45:08.496362Z",
          "iopub.execute_input": "2023-02-24T13:45:08.497368Z",
          "iopub.status.idle": "2023-02-24T13:45:08.503969Z",
          "shell.execute_reply.started": "2023-02-24T13:45:08.497326Z",
          "shell.execute_reply": "2023-02-24T13:45:08.502981Z"
        },
        "trusted": true
      },
      "execution_count": null,
      "outputs": []
    },
    {
      "cell_type": "code",
      "source": [
        "train_dataset = SquadDataset(train_encodings)\n",
        "val_dataset = SquadDataset(val_encodings)"
      ],
      "metadata": {
        "id": "xUT2_Jd3_5Va",
        "execution": {
          "iopub.status.busy": "2023-02-24T13:45:08.505305Z",
          "iopub.execute_input": "2023-02-24T13:45:08.506300Z",
          "iopub.status.idle": "2023-02-24T13:45:08.515751Z",
          "shell.execute_reply.started": "2023-02-24T13:45:08.506256Z",
          "shell.execute_reply": "2023-02-24T13:45:08.514703Z"
        },
        "trusted": true
      },
      "execution_count": null,
      "outputs": []
    },
    {
      "cell_type": "code",
      "source": [
        "train_loader = DataLoader(train_dataset, batch_size=16, shuffle=True)\n",
        "val_loader = DataLoader(val_dataset, batch_size=16, shuffle=True)"
      ],
      "metadata": {
        "id": "9rMozhCBGUQK",
        "execution": {
          "iopub.status.busy": "2023-02-24T13:45:08.517123Z",
          "iopub.execute_input": "2023-02-24T13:45:08.518031Z",
          "iopub.status.idle": "2023-02-24T13:45:08.526590Z",
          "shell.execute_reply.started": "2023-02-24T13:45:08.517993Z",
          "shell.execute_reply": "2023-02-24T13:45:08.525568Z"
        },
        "trusted": true
      },
      "execution_count": null,
      "outputs": []
    },
    {
      "cell_type": "code",
      "source": [
        "device = torch.device('cuda:0' if torch.cuda.is_available()\n",
        "                      else 'cpu')"
      ],
      "metadata": {
        "id": "wmExoJDLGUR6",
        "execution": {
          "iopub.status.busy": "2023-02-24T13:45:08.527940Z",
          "iopub.execute_input": "2023-02-24T13:45:08.528393Z",
          "iopub.status.idle": "2023-02-24T13:45:08.537838Z",
          "shell.execute_reply.started": "2023-02-24T13:45:08.528352Z",
          "shell.execute_reply": "2023-02-24T13:45:08.536806Z"
        },
        "trusted": true
      },
      "execution_count": null,
      "outputs": []
    },
    {
      "cell_type": "code",
      "source": [
        "device"
      ],
      "metadata": {
        "id": "f4h2kG0p5Mmc",
        "outputId": "1bb37dbc-50e9-4d48-a1b1-a175da0eb809",
        "colab": {
          "base_uri": "https://localhost:8080/"
        },
        "execution": {
          "iopub.status.busy": "2023-02-24T13:45:08.538844Z",
          "iopub.execute_input": "2023-02-24T13:45:08.539136Z",
          "iopub.status.idle": "2023-02-24T13:45:08.550201Z",
          "shell.execute_reply.started": "2023-02-24T13:45:08.539110Z",
          "shell.execute_reply": "2023-02-24T13:45:08.549034Z"
        },
        "trusted": true
      },
      "execution_count": null,
      "outputs": [
        {
          "execution_count": 22,
          "output_type": "execute_result",
          "data": {
            "text/plain": "device(type='cuda', index=0)"
          },
          "metadata": {}
        }
      ]
    },
    {
      "cell_type": "markdown",
      "source": [
        "**Model Fitting and Validation:**\n",
        "\n",
        "1. ALBERTA model is used to fit the model with albert-base-v2tokenisation.\n",
        "2. Adam optimiser is used.\n",
        "3. Learning rate is 5e-5.\n",
        "4. Number of epochs is 3. "
      ],
      "metadata": {
        "id": "jcxmFhsMeZpi"
      }
    },
    {
      "cell_type": "code",
      "source": [
        "model = AlbertForQuestionAnswering.from_pretrained('albert-base-v2').to(device)\n",
        "\n",
        "optim = AdamW(model.parameters(), lr=5e-5)\n",
        "#optim = AdamW(model.parameters(), lr=5e-5)\n",
        "# optim = AdamW(model.parameters(), lr=3e-5)\n",
        "# optim = AdamW(model.parameters(), lr=2e-5)\n",
        "\n",
        "epochs = 3\n",
        "#epochs = 1\n",
        "\n"
      ],
      "metadata": {
        "colab": {
          "base_uri": "https://localhost:8080/",
          "height": 190,
          "referenced_widgets": [
            "a858991c56f941fcaa01106fa40c9c3d",
            "c9b42a6730874efe81abb4a7248de7d4",
            "a1681ac09c464a789ade04379d2261b1",
            "a8100e0a964a408ea5ce377a753de63c",
            "670b8cd781f14e34b95e6d2dd6b0f6e5",
            "4ef3ef2cc0314a7e8fe30646bd14f601",
            "1e4b33e55a54413db316351ea1a53922",
            "0477ad605e2e4d97a076ef2c99a3dce9",
            "c1e0e59ce9de46fbac319c530b01ad09",
            "519210ea2535431fbc5951cee52e74c4",
            "75b2a1e31106454da6a72fd830d6c54c",
            "1ce7b9dd4dd64fbab334125b26b3d63d"
          ]
        },
        "id": "qPtk2c_gGUVo",
        "outputId": "06b09473-0ff5-4be3-e1d1-4fe345cba8a9",
        "execution": {
          "iopub.status.busy": "2023-02-24T13:45:08.552169Z",
          "iopub.execute_input": "2023-02-24T13:45:08.552642Z",
          "iopub.status.idle": "2023-02-24T13:45:15.784770Z",
          "shell.execute_reply.started": "2023-02-24T13:45:08.552607Z",
          "shell.execute_reply": "2023-02-24T13:45:15.783725Z"
        },
        "trusted": true
      },
      "execution_count": null,
      "outputs": [
        {
          "output_type": "display_data",
          "data": {
            "text/plain": "Downloading:   0%|          | 0.00/45.2M [00:00<?, ?B/s]",
            "application/vnd.jupyter.widget-view+json": {
              "version_major": 2,
              "version_minor": 0,
              "model_id": "1ce7b9dd4dd64fbab334125b26b3d63d"
            }
          },
          "metadata": {}
        },
        {
          "name": "stderr",
          "text": "Some weights of the model checkpoint at albert-base-v2 were not used when initializing AlbertForQuestionAnswering: ['predictions.decoder.weight', 'predictions.LayerNorm.weight', 'predictions.bias', 'predictions.dense.bias', 'predictions.LayerNorm.bias', 'predictions.dense.weight', 'predictions.decoder.bias']\n- This IS expected if you are initializing AlbertForQuestionAnswering from the checkpoint of a model trained on another task or with another architecture (e.g. initializing a BertForSequenceClassification model from a BertForPreTraining model).\n- This IS NOT expected if you are initializing AlbertForQuestionAnswering from the checkpoint of a model that you expect to be exactly identical (initializing a BertForSequenceClassification model from a BertForSequenceClassification model).\nSome weights of AlbertForQuestionAnswering were not initialized from the model checkpoint at albert-base-v2 and are newly initialized: ['qa_outputs.bias', 'qa_outputs.weight']\nYou should probably TRAIN this model on a down-stream task to be able to use it for predictions and inference.\n/opt/conda/lib/python3.7/site-packages/transformers/optimization.py:310: FutureWarning: This implementation of AdamW is deprecated and will be removed in a future version. Use the PyTorch implementation torch.optim.AdamW instead, or set `no_deprecation_warning=True` to disable this warning\n  FutureWarning,\n",
          "output_type": "stream"
        }
      ]
    },
    {
      "cell_type": "code",
      "source": [
        "whole_train_eval_time = time.time()\n",
        "\n",
        "train_losses = []\n",
        "val_losses = []\n",
        "\n",
        "print_every = 1000\n",
        "\n",
        "for epoch in range(epochs):\n",
        "  epoch_time = time.time()\n",
        "\n",
        "  model.train()\n",
        "    \n",
        "  loss_of_epoch = 0\n",
        "\n",
        "  print(\"############Train############\")\n",
        "\n",
        "  for batch_idx,batch in enumerate(train_loader): \n",
        "    \n",
        "    optim.zero_grad()\n",
        "\n",
        "    input_ids = batch['input_ids'].to(device)\n",
        "    attention_mask = batch['attention_mask'].to(device)\n",
        "    start_positions = batch['start_positions'].to(device)\n",
        "    end_positions = batch['end_positions'].to(device)\n",
        "    \n",
        "    outputs = model(input_ids, attention_mask=attention_mask, start_positions=start_positions, end_positions=end_positions)\n",
        "    loss = outputs[0]\n",
        "    loss.backward()\n",
        "    optim.step()\n",
        "    loss_of_epoch += loss.item()\n",
        "\n",
        "    if (batch_idx+1) % print_every == 0:\n",
        "      print(\"Batch {:} / {:}\".format(batch_idx+1,len(train_loader)),\"\\nLoss:\", round(loss.item(),1),\"\\n\")\n",
        "\n",
        "  loss_of_epoch /= len(train_loader)\n",
        "  train_losses.append(loss_of_epoch)\n",
        "\n",
        "  model.eval()\n",
        "\n",
        "  print(\"############Evaluate############\")\n",
        "\n",
        "  loss_of_epoch = 0\n",
        "\n",
        "  for batch_idx,batch in enumerate(val_loader):\n",
        "    \n",
        "    with torch.no_grad():\n",
        "\n",
        "      input_ids = batch['input_ids'].to(device)\n",
        "      attention_mask = batch['attention_mask'].to(device)\n",
        "      start_positions = batch['start_positions'].to(device)\n",
        "      end_positions = batch['end_positions'].to(device)\n",
        "      \n",
        "      outputs = model(input_ids, attention_mask=attention_mask, start_positions=start_positions, end_positions=end_positions)\n",
        "      loss = outputs[0]\n",
        "      loss_of_epoch += loss.item()\n",
        "\n",
        "    if (batch_idx+1) % print_every == 0:\n",
        "       print(\"Batch {:} / {:}\".format(batch_idx+1,len(val_loader)),\"\\nLoss:\", round(loss.item(),1),\"\\n\")\n",
        "\n",
        "  loss_of_epoch /= len(val_loader)\n",
        "  val_losses.append(loss_of_epoch)\n",
        "\n",
        "  print(\"\\n-------Epoch \", epoch+1,\n",
        "        \"-------\"\n",
        "        \"\\nTraining Loss:\", train_losses[-1],\n",
        "        \"\\nValidation Loss:\", val_losses[-1],\n",
        "        \"\\nTime: \",(time.time() - epoch_time),\n",
        "        \"\\n-----------------------\",\n",
        "        \"\\n\\n\")\n",
        "\n",
        "print(\"Total training and evaluation time: \", (time.time() - whole_train_eval_time))"
      ],
      "metadata": {
        "colab": {
          "base_uri": "https://localhost:8080/",
          "height": 397
        },
        "id": "vo1_u5PIG0Ij",
        "outputId": "41360f18-9d95-4dc1-9032-91ff802f8c73",
        "execution": {
          "iopub.status.busy": "2023-02-24T13:45:15.787127Z",
          "iopub.execute_input": "2023-02-24T13:45:15.787516Z",
          "iopub.status.idle": "2023-02-24T16:02:52.835653Z",
          "shell.execute_reply.started": "2023-02-24T13:45:15.787477Z",
          "shell.execute_reply": "2023-02-24T16:02:52.834464Z"
        },
        "trusted": true
      },
      "execution_count": null,
      "outputs": [
        {
          "name": "stdout",
          "text": "############Train############\nBatch 1000 / 1250 \nLoss: 2.4 \n\n############Evaluate############\nBatch 1000 / 1250 \nLoss: 4.4 \n\n\n-------Epoch  1 -------\nTraining Loss: 2.4316274798631667 \nValidation Loss: 3.9508363275527953 \nTime:  2745.853525876999 \n----------------------- \n\n\n############Train############\nBatch 1000 / 1250 \nLoss: 1.6 \n\n############Evaluate############\nBatch 1000 / 1250 \nLoss: 1.7 \n\n\n-------Epoch  2 -------\nTraining Loss: 1.6907366407394409 \nValidation Loss: 1.503365256690979 \nTime:  2753.963230609894 \n----------------------- \n\n\n############Train############\nBatch 1000 / 1250 \nLoss: 0.6 \n\n############Evaluate############\nBatch 1000 / 1250 \nLoss: 1.2 \n\n\n-------Epoch  3 -------\nTraining Loss: 0.9613940936207771 \nValidation Loss: 1.421687254834175 \nTime:  2757.214349269867 \n----------------------- \n\n\nTotal training and evaluation time:  8257.032050609589\n",
          "output_type": "stream"
        }
      ]
    },
    {
      "cell_type": "code",
      "source": [
        "torch.save(model.state_dict(), \"alberta.pt\")\n",
        "\n",
        "#torch.save(model,\"/content/drive/My Drive/Deep learning/Project/model1\")\n",
        "#torch.save(model,\"/content/drive/MyDrive/Deep learning\")"
      ],
      "metadata": {
        "id": "S8ucqncBG-46",
        "execution": {
          "iopub.status.busy": "2023-02-24T16:02:52.837338Z",
          "iopub.execute_input": "2023-02-24T16:02:52.837724Z",
          "iopub.status.idle": "2023-02-24T16:02:52.934418Z",
          "shell.execute_reply.started": "2023-02-24T16:02:52.837686Z",
          "shell.execute_reply": "2023-02-24T16:02:52.933443Z"
        },
        "trusted": true
      },
      "execution_count": null,
      "outputs": []
    },
    {
      "cell_type": "code",
      "source": [
        "import matplotlib.pyplot as plt \n",
        "\n",
        "fig,ax = plt.subplots(1,1,figsize=(15,10))\n",
        "\n",
        "ax.set_title(\"Train and Validation Losses\",size=20)\n",
        "ax.set_ylabel('Loss', fontsize = 20) \n",
        "ax.set_xlabel('Epochs', fontsize = 25) \n",
        "_=ax.plot(train_losses)\n",
        "_=ax.plot(val_losses)\n",
        "_=ax.legend(('Train','Val'),loc='upper right')"
      ],
      "metadata": {
        "id": "uwig8Uu8HFLp",
        "execution": {
          "iopub.status.busy": "2023-02-24T16:02:52.935751Z",
          "iopub.execute_input": "2023-02-24T16:02:52.936126Z",
          "iopub.status.idle": "2023-02-24T16:02:53.291726Z",
          "shell.execute_reply.started": "2023-02-24T16:02:52.936085Z",
          "shell.execute_reply": "2023-02-24T16:02:53.290769Z"
        },
        "trusted": true,
        "outputId": "d4cff0fe-52f6-4bdb-bf6a-f3448239b049"
      },
      "execution_count": null,
      "outputs": [
        {
          "output_type": "display_data",
          "data": {
            "text/plain": "<Figure size 1500x1000 with 1 Axes>",
            "image/png": "[encoded data removed]"
          },
          "metadata": {}
        }
      ]
    },
    {
      "cell_type": "markdown",
      "source": [
        "**Model Evaluation:**\n",
        "\n",
        "1. Loss graph is plotted to see the performance on the train and validation dataset.From graph, we can say that train loss and validation loss is also decreasing.\n",
        "2. Model is put against the test dataset to calculate the F1 score and exact match score."
      ],
      "metadata": {
        "id": "xH5PexmpehLW"
      }
    },
    {
      "cell_type": "code",
      "source": [
        "import torch\n",
        "from transformers import AutoTokenizer,BertTokenizerFast"
      ],
      "metadata": {
        "id": "aDD49TNVopNr",
        "execution": {
          "iopub.status.busy": "2023-02-24T16:02:53.292731Z",
          "iopub.execute_input": "2023-02-24T16:02:53.293048Z",
          "iopub.status.idle": "2023-02-24T16:02:53.300107Z",
          "shell.execute_reply.started": "2023-02-24T16:02:53.293015Z",
          "shell.execute_reply": "2023-02-24T16:02:53.299198Z"
        },
        "trusted": true
      },
      "execution_count": null,
      "outputs": []
    },
    {
      "cell_type": "code",
      "source": [
        "tokenizer = AutoTokenizer.from_pretrained('albert-base-v2')\n",
        "\n",
        "#drive.mount('/content/drive')\n",
        "#model = torch.load(\"/content/drive/My Drive/my_model_directory/my_model.pt\",map_location=torch.device('cpu'))\n",
        "#model.eval()"
      ],
      "metadata": {
        "id": "Ne6S29B_opRJ",
        "execution": {
          "iopub.status.busy": "2023-02-24T16:02:53.301473Z",
          "iopub.execute_input": "2023-02-24T16:02:53.302069Z",
          "iopub.status.idle": "2023-02-24T16:02:54.896481Z",
          "shell.execute_reply.started": "2023-02-24T16:02:53.302034Z",
          "shell.execute_reply": "2023-02-24T16:02:54.895507Z"
        },
        "trusted": true
      },
      "execution_count": null,
      "outputs": []
    },
    {
      "cell_type": "code",
      "source": [
        "from transformers import AlbertForQuestionAnswering\n",
        "from transformers import AutoTokenizer,BertTokenizerFast\n",
        "\n",
        "#loaded_dict = torch.load(\"/content/drive/My Drive/my_model_directory/my_model_2.pt\", map_location=torch.device('cpu'))\n",
        "loaded_dict = torch.load(\"alberta.pt\", map_location=torch.device('cpu'))\n",
        "\n",
        "model = AlbertForQuestionAnswering.from_pretrained('albert-base-v2')\n",
        "model.load_state_dict(loaded_dict)\n",
        "model.eval()"
      ],
      "metadata": {
        "id": "gPcG_Q0oe7Nf",
        "colab": {
          "base_uri": "https://localhost:8080/",
          "height": 1000,
          "referenced_widgets": [
            "4d1ff2b4fb9e406686b8d265fd44b6c9",
            "5d4e37cfccf84119999f9e2df1a21617",
            "cf17fd6904914fa1b4a0a1bf94d3ef02",
            "1377f844f19942afa58c594f1e480525",
            "466fb99da058431eb80b0bcf436c7649",
            "cfe5f639b01643d382e8ddb79142d7e9",
            "5ad0342f5f354c3e86eb6fba90ef9475",
            "94163ceb01de455da2026137d6e5b384",
            "19874738b39b422eabdd8344617157ba",
            "a984bfd662f14099b6ed6363697f300d",
            "94f7092f69994f2cb9c91fb1940d9bf6",
            "a0aca0235c8145b889b820d43ec18fe0",
            "23ad5dcff48e484093fe53bad73ed84e",
            "31c1346cd03e40f39223bbad10f7275f",
            "25e336e4ad52451286c6dc3629e1a19a",
            "f2538f31eaa44bec89124221a88058ec",
            "b59445d12dab4230868c3463b8365c3a",
            "e0c735bde3484ccbb25f427399c0c4fe",
            "84aeb00a684e43c6860520f0d4ff708f",
            "5d5b86e3dc344887af6cb870d76bc742",
            "1323b9bc45f24547aa51814de64f7bf4",
            "0f25fd29683c4ddeb5b54a09fdeeb8ba"
          ]
        },
        "outputId": "9a804a63-1822-4ce2-b159-10f9831f36b3",
        "execution": {
          "iopub.status.busy": "2023-02-24T16:02:54.898014Z",
          "iopub.execute_input": "2023-02-24T16:02:54.898356Z",
          "iopub.status.idle": "2023-02-24T16:02:55.402848Z",
          "shell.execute_reply.started": "2023-02-24T16:02:54.898320Z",
          "shell.execute_reply": "2023-02-24T16:02:55.401666Z"
        },
        "trusted": true
      },
      "execution_count": null,
      "outputs": [
        {
          "name": "stderr",
          "text": "Some weights of the model checkpoint at albert-base-v2 were not used when initializing AlbertForQuestionAnswering: ['predictions.decoder.weight', 'predictions.LayerNorm.weight', 'predictions.bias', 'predictions.dense.bias', 'predictions.LayerNorm.bias', 'predictions.dense.weight', 'predictions.decoder.bias']\n- This IS expected if you are initializing AlbertForQuestionAnswering from the checkpoint of a model trained on another task or with another architecture (e.g. initializing a BertForSequenceClassification model from a BertForPreTraining model).\n- This IS NOT expected if you are initializing AlbertForQuestionAnswering from the checkpoint of a model that you expect to be exactly identical (initializing a BertForSequenceClassification model from a BertForSequenceClassification model).\nSome weights of AlbertForQuestionAnswering were not initialized from the model checkpoint at albert-base-v2 and are newly initialized: ['qa_outputs.bias', 'qa_outputs.weight']\nYou should probably TRAIN this model on a down-stream task to be able to use it for predictions and inference.\n",
          "output_type": "stream"
        },
        {
          "execution_count": 29,
          "output_type": "execute_result",
          "data": {
            "text/plain": "AlbertForQuestionAnswering(\n  (albert): AlbertModel(\n    (embeddings): AlbertEmbeddings(\n      (word_embeddings): Embedding(30000, 128, padding_idx=0)\n      (position_embeddings): Embedding(512, 128)\n      (token_type_embeddings): Embedding(2, 128)\n      (LayerNorm): LayerNorm((128,), eps=1e-12, elementwise_affine=True)\n      (dropout): Dropout(p=0, inplace=False)\n    )\n    (encoder): AlbertTransformer(\n      (embedding_hidden_mapping_in): Linear(in_features=128, out_features=768, bias=True)\n      (albert_layer_groups): ModuleList(\n        (0): AlbertLayerGroup(\n          (albert_layers): ModuleList(\n            (0): AlbertLayer(\n              (full_layer_layer_norm): LayerNorm((768,), eps=1e-12, elementwise_affine=True)\n              (attention): AlbertAttention(\n                (query): Linear(in_features=768, out_features=768, bias=True)\n                (key): Linear(in_features=768, out_features=768, bias=True)\n                (value): Linear(in_features=768, out_features=768, bias=True)\n                (attention_dropout): Dropout(p=0, inplace=False)\n                (output_dropout): Dropout(p=0, inplace=False)\n                (dense): Linear(in_features=768, out_features=768, bias=True)\n                (LayerNorm): LayerNorm((768,), eps=1e-12, elementwise_affine=True)\n              )\n              (ffn): Linear(in_features=768, out_features=3072, bias=True)\n              (ffn_output): Linear(in_features=3072, out_features=768, bias=True)\n              (activation): NewGELUActivation()\n              (dropout): Dropout(p=0, inplace=False)\n            )\n          )\n        )\n      )\n    )\n  )\n  (qa_outputs): Linear(in_features=768, out_features=2, bias=True)\n)"
          },
          "metadata": {}
        }
      ]
    },
    {
      "cell_type": "code",
      "source": [
        "def predict(context,query):\n",
        "\n",
        "  inputs = tokenizer.encode_plus(query, context, return_tensors='pt').to('cpu')\n",
        "\n",
        "  outputs = model(**inputs)\n",
        "  answer_start = torch.argmax(outputs[0])  \n",
        "  answer_end = torch.argmax(outputs[1]) + 1 \n",
        "\n",
        "  answer = tokenizer.convert_tokens_to_string(tokenizer.convert_ids_to_tokens(inputs['input_ids'][0][answer_start:answer_end]))\n",
        "\n",
        "  return answer\n",
        "\n",
        "def normalize_text(s):\n",
        "  import string, re\n",
        "\n",
        "  def remove_articles(text):\n",
        "    regex = re.compile(r\"\\b(a|an|the)\\b\", re.UNICODE)\n",
        "    return re.sub(regex, \" \", text)\n",
        "\n",
        "  def white_space_fix(text):\n",
        "    return \" \".join(text.split())\n",
        "\n",
        "  def remove_punc(text):\n",
        "    exclude = set(string.punctuation)\n",
        "    return \"\".join(ch for ch in text if ch not in exclude)\n",
        "\n",
        "  def lower(text):\n",
        "    return text.lower()\n",
        "\n",
        "  return white_space_fix(remove_articles(remove_punc(lower(s))))\n",
        "\n",
        "def compute_exact_match(prediction, truth):\n",
        "    return int(normalize_text(prediction) == normalize_text(truth))\n",
        "\n",
        "def compute_f1(prediction, truth):\n",
        "  pred_tokens = normalize_text(prediction).split()\n",
        "  truth_tokens = normalize_text(truth).split()\n",
        "  \n",
        "  if len(pred_tokens) == 0 or len(truth_tokens) == 0:\n",
        "    return int(pred_tokens == truth_tokens)\n",
        "  \n",
        "  common_tokens = set(pred_tokens) & set(truth_tokens)\n",
        "  \n",
        "  if len(common_tokens) == 0:\n",
        "    return 0\n",
        "  \n",
        "  prec = len(common_tokens) / len(pred_tokens)\n",
        "  rec = len(common_tokens) / len(truth_tokens)\n",
        "  \n",
        "  return 2 * (prec * rec) / (prec + rec)"
      ],
      "metadata": {
        "id": "GSbDTb6oo5H3",
        "execution": {
          "iopub.status.busy": "2023-02-24T16:02:55.404548Z",
          "iopub.execute_input": "2023-02-24T16:02:55.405220Z",
          "iopub.status.idle": "2023-02-24T16:02:55.417625Z",
          "shell.execute_reply.started": "2023-02-24T16:02:55.405180Z",
          "shell.execute_reply": "2023-02-24T16:02:55.416654Z"
        },
        "trusted": true
      },
      "execution_count": null,
      "outputs": []
    },
    {
      "cell_type": "code",
      "source": [
        "def give_an_answer(context,query,answer):\n",
        "\n",
        "  prediction = predict(context,query)\n",
        "  em_score = compute_exact_match(prediction, answer)\n",
        "  f1_score = compute_f1(prediction, answer)\n",
        "\n",
        "  print(f\"Question: {query}\")\n",
        "  print(f\"Prediction: {prediction}\")\n",
        "  print(f\"True Answer: {answer}\")\n",
        "  print(f\"EM: {em_score}\")\n",
        "  print(f\"F1: {f1_score}\")\n",
        "  print(\"\\n\")"
      ],
      "metadata": {
        "id": "qF3eEv1oo5QO",
        "execution": {
          "iopub.status.busy": "2023-02-24T16:02:55.419324Z",
          "iopub.execute_input": "2023-02-24T16:02:55.419695Z",
          "iopub.status.idle": "2023-02-24T16:02:55.432773Z",
          "shell.execute_reply.started": "2023-02-24T16:02:55.419658Z",
          "shell.execute_reply": "2023-02-24T16:02:55.431867Z"
        },
        "trusted": true
      },
      "execution_count": null,
      "outputs": []
    },
    {
      "cell_type": "code",
      "source": [
        "tokenizer = AutoTokenizer.from_pretrained(\"google/electra-base-discriminator\")\n",
        "\n",
        "context = \"\"\" The COVID-19 pandemic, also known as the coronavirus pandemic, is an ongoing pandemic of coronavirus disease 2019 (COVID-19) \n",
        "              caused by severe acute respiratory syndrome coronavirus 2 (SARS-CoV-2). It was first identified in December 2019 in Wuhan, China. \n",
        "              The World Health Organization declared the outbreak a Public Health Emergency of International Concern in January 2020 and a pandemic \n",
        "              in March 2020. As of 6 February 2021, more than 105 million cases have been confirmed, with more than 2.3 million deaths attributed to COVID-19.\n",
        "              Symptoms of COVID-19 are highly variable, ranging from none to severe illness. The virus spreads mainly through the air when people are \n",
        "              near each other.[b] It leaves an infected person as they breathe, cough, sneeze, or speak and enters another person via their mouth, nose, or eyes. \n",
        "              It may also spread via contaminated surfaces. People remain infectious for up to two weeks, and can spread the virus even if they do not show symptoms.[9]\"\"\"\n",
        "\n",
        "queries = [\n",
        "           \"What is COVID-19?\",\n",
        "           \"What is caused by COVID-19?\",\n",
        "           \"How many cases have been confirmed from COVID-19?\",\n",
        "           \"How many deaths have been confirmed from COVID-19?\",\n",
        "           \"How is COVID-19 spread?\",\n",
        "           \"How long can an infected person remain infected?\",\n",
        "           \"Can a infected person spread the virus even if they don't have symptoms?\",\n",
        "           \"What do elephants eat?\"\n",
        "          ]\n",
        "answers = [\n",
        "           \"an ongoing pandemic of coronavirus disease 2019\",\n",
        "           \"severe acute respiratory syndrome coronavirus 2 (SARS-CoV-2)\",\n",
        "           \"more than 105 million cases\",\n",
        "           \"more than 2.3 million deaths\",\n",
        "           \"mainly through the air when people are near each other. It leaves an infected person as they breathe, cough, sneeze, or speak and enters another person via their mouth, nose, or eyes. It may also spread via contaminated surfaces.\",\n",
        "           \"up to two weeks\",\n",
        "           \"yes\",\n",
        "           \"\"\n",
        "          ]\n",
        "\n",
        "for q,a in zip(queries,answers):\n",
        "  give_an_answer(context,q,a)"
      ],
      "metadata": {
        "id": "-hiiMgo5pGkw",
        "colab": {
          "base_uri": "https://localhost:8080/",
          "height": 441,
          "referenced_widgets": [
            "7784ab157b8440bf8db853d0205e024b",
            "4b471ab8ca394e76abbde84b4b81f9d6",
            "8c92101c5f9e41b094ba0713afc4a079",
            "2122c677990e4ea4bac22e86b5500f96",
            "ed8fa81f98564176a8a0890a2d5154f0",
            "da86326b3bb04de9b32ac48edd2863b7",
            "c1eeca72099b4ddeaa9ecec21922a90b",
            "48752266222b4baf9ba88b9d78cf54cd",
            "1a5c33a09e33434690839bfd8921aa6f",
            "a44a888528a74d669d1c2a1d3a37ab2b",
            "0a83d41ca665499f97142a33cf5d5464",
            "eeb076ac66c246a1847233a094c4d2ed",
            "e347a6dc978741319ebe57894b7d6914",
            "95a2e9a9b24043a58671e1d881c075c9",
            "e33d0ae89c97490480ca38ee4304262c",
            "66e94d90b76e480daaccefdd579db599",
            "4b196c56adab41708b6b17d1e6828234",
            "2568774547234d1eb3ed77b34056fed8",
            "e682a0b2daab4f9eb769adc1a78199ba",
            "c86c676f33da446280dd56026b49e38d",
            "25f8c4b590b9447a8c14f9c594f0cf72",
            "4be2684af082446292d922b53869a9fe",
            "1eac3490547a4fafab20c6b12c99e38c",
            "49a637bd184043babaaf61ebdc1895c5",
            "2101290d4fb24a97afda7446032e7660",
            "9a6a9789d60e48d896a91f31a1783060",
            "0c82ca6d6a1e4acd9e8ecf1d1e7d8189",
            "426002e5b5474776acb7aa2c61ce8c3b",
            "42e43f9a78e346f093af8cbfc09c9fca",
            "233825a975384a978e9f1f0d424e13cb",
            "16d1d880c3764913aece8f03bbdcf478",
            "7a53fb0d18444c619ca4a76e48b146eb",
            "2204cc43392b470a8c8a3169b2f0ba70",
            "3eb33d95069147c0a7341925e5be71f5",
            "e48b2e7f50ae4b2b91e77d1e79e26fab",
            "aa42e240d8fc4d51b5374f68bf5e7914",
            "54242a44bdff402886fbcafaa57a73ca"
          ]
        },
        "outputId": "ccb7a42c-fbe8-412a-bd0c-230038874b61",
        "execution": {
          "iopub.status.busy": "2023-02-24T16:03:54.675183Z",
          "iopub.execute_input": "2023-02-24T16:03:54.675589Z",
          "iopub.status.idle": "2023-02-24T16:04:01.837672Z",
          "shell.execute_reply.started": "2023-02-24T16:03:54.675551Z",
          "shell.execute_reply": "2023-02-24T16:04:01.836594Z"
        },
        "trusted": true
      },
      "execution_count": null,
      "outputs": [
        {
          "output_type": "display_data",
          "data": {
            "text/plain": "Downloading:   0%|          | 0.00/27.0 [00:00<?, ?B/s]",
            "application/vnd.jupyter.widget-view+json": {
              "version_major": 2,
              "version_minor": 0,
              "model_id": "3eb33d95069147c0a7341925e5be71f5"
            }
          },
          "metadata": {}
        },
        {
          "output_type": "display_data",
          "data": {
            "text/plain": "Downloading:   0%|          | 0.00/666 [00:00<?, ?B/s]",
            "application/vnd.jupyter.widget-view+json": {
              "version_major": 2,
              "version_minor": 0,
              "model_id": "e48b2e7f50ae4b2b91e77d1e79e26fab"
            }
          },
          "metadata": {}
        },
        {
          "output_type": "display_data",
          "data": {
            "text/plain": "Downloading:   0%|          | 0.00/226k [00:00<?, ?B/s]",
            "application/vnd.jupyter.widget-view+json": {
              "version_major": 2,
              "version_minor": 0,
              "model_id": "aa42e240d8fc4d51b5374f68bf5e7914"
            }
          },
          "metadata": {}
        },
        {
          "output_type": "display_data",
          "data": {
            "text/plain": "Downloading:   0%|          | 0.00/455k [00:00<?, ?B/s]",
            "application/vnd.jupyter.widget-view+json": {
              "version_major": 2,
              "version_minor": 0,
              "model_id": "54242a44bdff402886fbcafaa57a73ca"
            }
          },
          "metadata": {}
        },
        {
          "name": "stdout",
          "text": "Question: What is COVID-19?\nPrediction: \nTrue Answer: an ongoing pandemic of coronavirus disease 2019\nEM: 0\nF1: 0\n\n\nQuestion: What is caused by COVID-19?\nPrediction: \nTrue Answer: severe acute respiratory syndrome coronavirus 2 (SARS-CoV-2)\nEM: 0\nF1: 0\n\n\nQuestion: How many cases have been confirmed from COVID-19?\nPrediction: ? [SEP] the covid - 19 pandemic, also known as the coronavirus pandemic, is an ongoing pandemic of coronavirus disease 2019 ( covid - 19 ) caused by severe acute respiratory syndrome coronavirus 2 ( sars - cov - 2 ). it was first identified in december 2019 in wuhan, china. the world health organization declared the outbreak\nTrue Answer: more than 105 million cases\nEM: 0\nF1: 0\n\n\nQuestion: How many deaths have been confirmed from COVID-19?\nPrediction: ? [SEP] the\nTrue Answer: more than 2.3 million deaths\nEM: 0\nF1: 0\n\n\nQuestion: How is COVID-19 spread?\nPrediction: \nTrue Answer: mainly through the air when people are near each other. It leaves an infected person as they breathe, cough, sneeze, or speak and enters another person via their mouth, nose, or eyes. It may also spread via contaminated surfaces.\nEM: 0\nF1: 0\n\n\nQuestion: How long can an infected person remain infected?\nPrediction: it was first identified in december 2019 in wuhan, china\nTrue Answer: up to two weeks\nEM: 0\nF1: 0\n\n\nQuestion: Can a infected person spread the virus even if they don't have symptoms?\nPrediction: ? [SEP] the\nTrue Answer: yes\nEM: 0\nF1: 0\n\n\nQuestion: What do elephants eat?\nPrediction: \nTrue Answer: \nEM: 1\nF1: 1\n\n\n",
          "output_type": "stream"
        }
      ]
    },
    {
      "cell_type": "code",
      "source": [
        "context = \"\"\" Mount Olympus is the highest mountain in Greece. It is part of the Olympus massif near \n",
        "              the Gulf of Thérmai of the Aegean Sea, located in the Olympus Range on the border between \n",
        "              Thessaly and Macedonia, between the regional units of Pieria and Larissa, about 80 km (50 mi) \n",
        "              southwest from Thessaloniki. Mount Olympus has 52 peaks and deep gorges. The highest peak, \n",
        "              Mytikas, meaning \"nose\", rises to 2917 metres (9,570 ft). It is one of the \n",
        "              highest peaks in Europe in terms of topographic prominence. \"\"\"\n",
        "\n",
        "queries = [\n",
        "           \"How many metres is Olympus?\",\n",
        "           \"Where Olympus is near?\",\n",
        "           \"How far away is Olympus from Thessaloniki?\"\n",
        "          ]\n",
        "answers = [\n",
        "           \"2917\",\n",
        "           \"Gulf of Thérmai of the Aegean Sea\",\n",
        "           \"80 km (50 mi)\"\n",
        "          ]\n",
        "\n",
        "for q,a in zip(queries,answers):\n",
        "  give_an_answer(context,q,a)"
      ],
      "metadata": {
        "execution": {
          "iopub.status.busy": "2023-02-24T16:04:14.840593Z",
          "iopub.execute_input": "2023-02-24T16:04:14.840949Z",
          "iopub.status.idle": "2023-02-24T16:04:15.606645Z",
          "shell.execute_reply.started": "2023-02-24T16:04:14.840917Z",
          "shell.execute_reply": "2023-02-24T16:04:15.605595Z"
        },
        "trusted": true,
        "id": "0tV8UcP-vxP6",
        "outputId": "1b7980ea-9107-48a5-bb86-818c5336842e"
      },
      "execution_count": null,
      "outputs": [
        {
          "name": "stdout",
          "text": "Question: How many metres is Olympus?\nPrediction: \nTrue Answer: 2917\nEM: 0\nF1: 0\n\n\nQuestion: Where Olympus is near?\nPrediction: , mytikas, meaning \" nose \", rises to 291\nTrue Answer: Gulf of Thérmai of the Aegean Sea\nEM: 0\nF1: 0\n\n\nQuestion: How far away is Olympus from Thessaloniki?\nPrediction: ? [SEP] mount olympus is the highest mountain in greece. it is part of the olympus massif near the gulf of thermai of the aegean sea, located in the olympus range on the border between thessaly and macedonia, between the regional units of pieria and larissa, about 80 km ( 50 mi ) southwest from thessaloniki. mount olympus has 52 peaks and deep gorges. the highest peak, mytikas, meaning \" nose \", rises to 291\nTrue Answer: 80 km (50 mi)\nEM: 0\nF1: 0.12121212121212122\n\n\n",
          "output_type": "stream"
        }
      ]
    },
    {
      "cell_type": "code",
      "source": [
        "context = \"\"\" Harry Potter is a series of seven fantasy novels written by British author, J. K. Rowling. The novels chronicle the lives of a young wizard, \n",
        "              Harry Potter, and his friends Hermione Granger and Ron Weasley, all of whom are students at Hogwarts School of Witchcraft and Wizardry. \n",
        "              The main story arc concerns Harry's struggle against Lord Voldemort, a dark wizard who intends to become immortal, overthrow the wizard \n",
        "              governing body known as the Ministry of Magic and subjugate all wizards and Muggles (non-magical people). Since the release of the first novel, \n",
        "              Harry Potter and the Philosopher's Stone, on 26 June 1997, the books have found immense popularity, positive reviews, and commercial success worldwide. \n",
        "              They have attracted a wide adult audience as well as younger readers and are often considered cornerstones of modern young adult literature.[2] \n",
        "              As of February 2018, the books have sold more than 500 million copies worldwide, making them the best-selling book series in history, and have been translated \n",
        "              into eighty languages.[3] The last four books consecutively set records as the fastest-selling books in history, with the final installment selling roughly \n",
        "              eleven million copies in the United States within twenty-four hours of its release.  \"\"\"\n",
        "\n",
        "queries = [\n",
        "           \"Who wrote Harry Potter's novels?\",\n",
        "           \"Who are Harry Potter's friends?\",\n",
        "           \"Who is the enemy of Harry Potter?\",\n",
        "           \"What are Muggles?\",\n",
        "           \"Which is the name of Harry Poter's first novel?\",\n",
        "           \"When did the first novel release?\",\n",
        "           \"Who was attracted by Harry Potter novels?\",\n",
        "           \"How many languages Harry Potter has been translated into? \"\n",
        "          ]\n",
        "answers = [\n",
        "           \"J. K. Rowling\",\n",
        "           \"Hermione Granger and Ron Weasley\",\n",
        "           \"Lord Voldemort\",\n",
        "           \"non-magical people\",\n",
        "           \"Harry Potter and the Philosopher's Stone\",\n",
        "           \"26 June 1997\",\n",
        "           \"a wide adult audience as well as younger readers\",\n",
        "           \"eighty\"\n",
        "          ]\n",
        "\n",
        "for q,a in zip(queries,answers):\n",
        "  give_an_answer(context,q,a)"
      ],
      "metadata": {
        "execution": {
          "iopub.status.busy": "2023-02-24T16:04:15.609107Z",
          "iopub.execute_input": "2023-02-24T16:04:15.609496Z",
          "iopub.status.idle": "2023-02-24T16:04:19.964718Z",
          "shell.execute_reply.started": "2023-02-24T16:04:15.609456Z",
          "shell.execute_reply": "2023-02-24T16:04:19.963473Z"
        },
        "trusted": true,
        "id": "s8bVxw7zvxP6",
        "outputId": "314807d1-8052-4d27-b054-307fbe97ae8b"
      },
      "execution_count": null,
      "outputs": [
        {
          "name": "stdout",
          "text": "Question: Who wrote Harry Potter's novels?\nPrediction: ? [SEP] harry potter is a series of seven fantasy novels written by british author, j. k. rowling. the novels chronicle the\nTrue Answer: J. K. Rowling\nEM: 0\nF1: 0.2857142857142857\n\n\nQuestion: Who are Harry Potter's friends?\nPrediction: british author, j. k. rowling. the novels chronicle the\nTrue Answer: Hermione Granger and Ron Weasley\nEM: 0\nF1: 0\n\n\nQuestion: Who is the enemy of Harry Potter?\nPrediction: ? [SEP] harry potter is a series of seven fantasy novels written by british author, j. k. rowling. the novels chronicle the\nTrue Answer: Lord Voldemort\nEM: 0\nF1: 0\n\n\nQuestion: What are Muggles?\nPrediction: \nTrue Answer: non-magical people\nEM: 0\nF1: 0\n\n\nQuestion: Which is the name of Harry Poter's first novel?\nPrediction: ? [SEP] harry potter is a series of seven fantasy novels written by british author, j. k. rowling. the novels chronicle the\nTrue Answer: Harry Potter and the Philosopher's Stone\nEM: 0\nF1: 0.1739130434782609\n\n\nQuestion: When did the first novel release?\nPrediction: british author, j. k. rowling. the novels chronicle the\nTrue Answer: 26 June 1997\nEM: 0\nF1: 0\n\n\nQuestion: Who was attracted by Harry Potter novels?\nPrediction: ? [SEP] harry potter is a series of seven fantasy novels written by british author, j. k. rowling. the novels chronicle the\nTrue Answer: a wide adult audience as well as younger readers\nEM: 0\nF1: 0\n\n\nQuestion: How many languages Harry Potter has been translated into? \nPrediction: british author, j. k. rowling. the novels chronicle the\nTrue Answer: eighty\nEM: 0\nF1: 0\n\n\n",
          "output_type": "stream"
        }
      ]
    },
    {
      "cell_type": "markdown",
      "source": [
        "**Improvements:**\n",
        "1. Model could be trained on more epochs given more computational power.\n",
        "2. Improved quality and quantity of the dataset could improve the performance of the model as well."
      ],
      "metadata": {
        "id": "yOYEBqwvemIH"
      }
    },
    {
      "cell_type": "markdown",
      "source": [
        "**References:**\n",
        "1. https://www.kaggle.com/competitions/asap-sas/data\n",
        "2. https://towardsdatascience.com/question-answering-with-pretrained-transformers-using-pytorch-c3e7a44b4012"
      ],
      "metadata": {
        "id": "pHY9X6SIenqb"
      }
    },
    {
      "cell_type": "markdown",
      "source": [
        "**Credits:**\n",
        "1. https://huggingface.co/docs/transformers/tasks/question_answering\n",
        "2. https://github.com/alexaapo/BERT-based-pretrained-model-using-SQuAD-2.0-dataset"
      ],
      "metadata": {
        "id": "mpRXrbT3eoAS"
      }
    },
    {
      "cell_type": "code",
      "source": [],
      "metadata": {
        "id": "dzh3GAqyvxP6"
      },
      "execution_count": null,
      "outputs": []
    }
  ]
}